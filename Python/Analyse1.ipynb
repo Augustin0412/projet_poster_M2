{
 "cells": [
  {
   "cell_type": "markdown",
   "metadata": {},
   "source": [
    "hotel: The type of hotel, either \"City Hotel\" or \"Resort Hotel.\", resort = vacances\n",
    "\n",
    "is_canceled: Binary value indicating whether the booking was cancelled (1) or not (0).\n",
    "\n",
    "lead_time: Number of days between booking and arrival.\n",
    "\n",
    "arrival_date_year: Year of arrival date.\n",
    "\n",
    "arrival_date_month: Month of arrival date.\n",
    "\n",
    "arrival_date_week_number: Week number of arrival date.\n",
    "\n",
    "arrival_date_day_of_month: Day of the month of arrival date.\n",
    "\n",
    "stays_in_weekend_nights: Number of weekend nights (Saturday or Sunday) the guest stays.\n",
    "\n",
    "stays_in_week_nights: Number of weekday nights (Monday to Friday) the guest stays.\n",
    "\n",
    "adults: Number of adults.\n",
    "\n",
    "children: Number of children.\n",
    "\n",
    "babies: Number of babies.\n",
    "\n",
    "meal: Type of meal booked.\n",
    "\n",
    "country: Country of origin.\n",
    "\n",
    "market_segment: Market segment designation.\n",
    "\n",
    "distribution_channel: Booking distribution channel.\n",
    "\n",
    "is_repeated_guest: Binary value indicating whether the guest is a repeated guest (1) or not (0).\n",
    "\n",
    "previous_cancellations: Number of previous booking cancellations.\n",
    "\n",
    "previous_bookings_not_canceled: Number of previous bookings not cancelled.\n",
    "\n",
    "reserved_room_type: Code of room type reserved.\n",
    "\n",
    "assigned_room_type: Code of room type assigned at check-in.\n",
    "\n",
    "booking_changes: Number of changes/amendments made to the booking.\n",
    "\n",
    "deposit_type: Type of deposit made.\n",
    "\n",
    "agent: ID of the travel agency.\n",
    "\n",
    "company: ID of the company.\n",
    "\n",
    "days_in_waiting_list: Number of days in the waiting list before booking.\n",
    "\n",
    "customer_type: Type of booking.\n",
    "\n",
    "adr: Average daily rate. combien gagne l'hotel, pour la journée donnée, par chambre\n",
    "\n",
    "required_car_parking_spaces: Number of car parking spaces required.\n",
    "\n",
    "total_of_special_requests: Number of special requests made.\n",
    "\n",
    "reservation_status: Reservation last status.\n",
    "\n",
    "reservation_status_date: Date of the last status.\n",
    "\n",
    "name: Guest's name. (Not Real)\n",
    "\n",
    "email: Guest's email address.(Not Real)\n",
    "\n",
    "phone-number: Guest's phone number. (Not Real)\n",
    "\n",
    "credit_card: Guest's credit card details. (Not Real)"
   ]
  },
  {
   "cell_type": "code",
   "execution_count": 6,
   "metadata": {},
   "outputs": [],
   "source": [
    "import pandas as pd\n",
    "import numpy as np \n",
    "import matplotlib.pyplot as plt\n",
    "from fct import *\n",
    "from sklearn.preprocessing import StandardScaler\n",
    "import warnings\n",
    "warnings.filterwarnings(\"ignore\")"
   ]
  },
  {
   "cell_type": "code",
   "execution_count": 7,
   "metadata": {},
   "outputs": [
    {
     "data": {
      "text/html": [
       "<div>\n",
       "<style scoped>\n",
       "    .dataframe tbody tr th:only-of-type {\n",
       "        vertical-align: middle;\n",
       "    }\n",
       "\n",
       "    .dataframe tbody tr th {\n",
       "        vertical-align: top;\n",
       "    }\n",
       "\n",
       "    .dataframe thead th {\n",
       "        text-align: right;\n",
       "    }\n",
       "</style>\n",
       "<table border=\"1\" class=\"dataframe\">\n",
       "  <thead>\n",
       "    <tr style=\"text-align: right;\">\n",
       "      <th></th>\n",
       "      <th>hotel</th>\n",
       "      <th>is_canceled</th>\n",
       "      <th>lead_time</th>\n",
       "      <th>arrival_date_year</th>\n",
       "      <th>arrival_date_month</th>\n",
       "      <th>arrival_date_week_number</th>\n",
       "      <th>arrival_date_day_of_month</th>\n",
       "      <th>stays_in_weekend_nights</th>\n",
       "      <th>stays_in_week_nights</th>\n",
       "      <th>adults</th>\n",
       "      <th>...</th>\n",
       "      <th>deposit_type</th>\n",
       "      <th>agent</th>\n",
       "      <th>company</th>\n",
       "      <th>days_in_waiting_list</th>\n",
       "      <th>customer_type</th>\n",
       "      <th>adr</th>\n",
       "      <th>required_car_parking_spaces</th>\n",
       "      <th>total_of_special_requests</th>\n",
       "      <th>reservation_status</th>\n",
       "      <th>reservation_status_date</th>\n",
       "    </tr>\n",
       "  </thead>\n",
       "  <tbody>\n",
       "    <tr>\n",
       "      <th>0</th>\n",
       "      <td>Resort Hotel</td>\n",
       "      <td>0</td>\n",
       "      <td>342</td>\n",
       "      <td>2015</td>\n",
       "      <td>July</td>\n",
       "      <td>27</td>\n",
       "      <td>1</td>\n",
       "      <td>0</td>\n",
       "      <td>0</td>\n",
       "      <td>2</td>\n",
       "      <td>...</td>\n",
       "      <td>No Deposit</td>\n",
       "      <td>NaN</td>\n",
       "      <td>NaN</td>\n",
       "      <td>0</td>\n",
       "      <td>Transient</td>\n",
       "      <td>0.0</td>\n",
       "      <td>0</td>\n",
       "      <td>0</td>\n",
       "      <td>Check-Out</td>\n",
       "      <td>2015-07-01</td>\n",
       "    </tr>\n",
       "    <tr>\n",
       "      <th>1</th>\n",
       "      <td>Resort Hotel</td>\n",
       "      <td>0</td>\n",
       "      <td>737</td>\n",
       "      <td>2015</td>\n",
       "      <td>July</td>\n",
       "      <td>27</td>\n",
       "      <td>1</td>\n",
       "      <td>0</td>\n",
       "      <td>0</td>\n",
       "      <td>2</td>\n",
       "      <td>...</td>\n",
       "      <td>No Deposit</td>\n",
       "      <td>NaN</td>\n",
       "      <td>NaN</td>\n",
       "      <td>0</td>\n",
       "      <td>Transient</td>\n",
       "      <td>0.0</td>\n",
       "      <td>0</td>\n",
       "      <td>0</td>\n",
       "      <td>Check-Out</td>\n",
       "      <td>2015-07-01</td>\n",
       "    </tr>\n",
       "    <tr>\n",
       "      <th>2</th>\n",
       "      <td>Resort Hotel</td>\n",
       "      <td>0</td>\n",
       "      <td>7</td>\n",
       "      <td>2015</td>\n",
       "      <td>July</td>\n",
       "      <td>27</td>\n",
       "      <td>1</td>\n",
       "      <td>0</td>\n",
       "      <td>1</td>\n",
       "      <td>1</td>\n",
       "      <td>...</td>\n",
       "      <td>No Deposit</td>\n",
       "      <td>NaN</td>\n",
       "      <td>NaN</td>\n",
       "      <td>0</td>\n",
       "      <td>Transient</td>\n",
       "      <td>75.0</td>\n",
       "      <td>0</td>\n",
       "      <td>0</td>\n",
       "      <td>Check-Out</td>\n",
       "      <td>2015-07-02</td>\n",
       "    </tr>\n",
       "    <tr>\n",
       "      <th>3</th>\n",
       "      <td>Resort Hotel</td>\n",
       "      <td>0</td>\n",
       "      <td>13</td>\n",
       "      <td>2015</td>\n",
       "      <td>July</td>\n",
       "      <td>27</td>\n",
       "      <td>1</td>\n",
       "      <td>0</td>\n",
       "      <td>1</td>\n",
       "      <td>1</td>\n",
       "      <td>...</td>\n",
       "      <td>No Deposit</td>\n",
       "      <td>304.0</td>\n",
       "      <td>NaN</td>\n",
       "      <td>0</td>\n",
       "      <td>Transient</td>\n",
       "      <td>75.0</td>\n",
       "      <td>0</td>\n",
       "      <td>0</td>\n",
       "      <td>Check-Out</td>\n",
       "      <td>2015-07-02</td>\n",
       "    </tr>\n",
       "    <tr>\n",
       "      <th>4</th>\n",
       "      <td>Resort Hotel</td>\n",
       "      <td>0</td>\n",
       "      <td>14</td>\n",
       "      <td>2015</td>\n",
       "      <td>July</td>\n",
       "      <td>27</td>\n",
       "      <td>1</td>\n",
       "      <td>0</td>\n",
       "      <td>2</td>\n",
       "      <td>2</td>\n",
       "      <td>...</td>\n",
       "      <td>No Deposit</td>\n",
       "      <td>240.0</td>\n",
       "      <td>NaN</td>\n",
       "      <td>0</td>\n",
       "      <td>Transient</td>\n",
       "      <td>98.0</td>\n",
       "      <td>0</td>\n",
       "      <td>1</td>\n",
       "      <td>Check-Out</td>\n",
       "      <td>2015-07-03</td>\n",
       "    </tr>\n",
       "  </tbody>\n",
       "</table>\n",
       "<p>5 rows × 32 columns</p>\n",
       "</div>"
      ],
      "text/plain": [
       "          hotel  is_canceled  lead_time  arrival_date_year arrival_date_month  \\\n",
       "0  Resort Hotel            0        342               2015               July   \n",
       "1  Resort Hotel            0        737               2015               July   \n",
       "2  Resort Hotel            0          7               2015               July   \n",
       "3  Resort Hotel            0         13               2015               July   \n",
       "4  Resort Hotel            0         14               2015               July   \n",
       "\n",
       "   arrival_date_week_number  arrival_date_day_of_month  \\\n",
       "0                        27                          1   \n",
       "1                        27                          1   \n",
       "2                        27                          1   \n",
       "3                        27                          1   \n",
       "4                        27                          1   \n",
       "\n",
       "   stays_in_weekend_nights  stays_in_week_nights  adults  ...  deposit_type  \\\n",
       "0                        0                     0       2  ...    No Deposit   \n",
       "1                        0                     0       2  ...    No Deposit   \n",
       "2                        0                     1       1  ...    No Deposit   \n",
       "3                        0                     1       1  ...    No Deposit   \n",
       "4                        0                     2       2  ...    No Deposit   \n",
       "\n",
       "   agent company days_in_waiting_list customer_type   adr  \\\n",
       "0    NaN     NaN                    0     Transient   0.0   \n",
       "1    NaN     NaN                    0     Transient   0.0   \n",
       "2    NaN     NaN                    0     Transient  75.0   \n",
       "3  304.0     NaN                    0     Transient  75.0   \n",
       "4  240.0     NaN                    0     Transient  98.0   \n",
       "\n",
       "   required_car_parking_spaces  total_of_special_requests  reservation_status  \\\n",
       "0                            0                          0           Check-Out   \n",
       "1                            0                          0           Check-Out   \n",
       "2                            0                          0           Check-Out   \n",
       "3                            0                          0           Check-Out   \n",
       "4                            0                          1           Check-Out   \n",
       "\n",
       "  reservation_status_date  \n",
       "0              2015-07-01  \n",
       "1              2015-07-01  \n",
       "2              2015-07-02  \n",
       "3              2015-07-02  \n",
       "4              2015-07-03  \n",
       "\n",
       "[5 rows x 32 columns]"
      ]
     },
     "execution_count": 7,
     "metadata": {},
     "output_type": "execute_result"
    }
   ],
   "source": [
    "df = pd.read_csv(\"../hotel_bookings.csv\", sep=\",\")\n",
    "df.head()"
   ]
  },
  {
   "cell_type": "markdown",
   "metadata": {},
   "source": [
    "# Cleaning"
   ]
  },
  {
   "cell_type": "markdown",
   "metadata": {},
   "source": [
    "### NaN and select columns"
   ]
  },
  {
   "cell_type": "code",
   "execution_count": 8,
   "metadata": {},
   "outputs": [
    {
     "name": "stdout",
     "output_type": "stream",
     "text": [
      "hotel                             0\n",
      "is_canceled                       0\n",
      "lead_time                         0\n",
      "arrival_date_year                 0\n",
      "arrival_date_month                0\n",
      "arrival_date_day_of_month         0\n",
      "reservation_status_date           0\n",
      "stays_in_weekend_nights           0\n",
      "stays_in_week_nights              0\n",
      "adults                            0\n",
      "children                          0\n",
      "babies                            0\n",
      "meal                              0\n",
      "country                           0\n",
      "market_segment                    0\n",
      "is_repeated_guest                 0\n",
      "previous_cancellations            0\n",
      "previous_bookings_not_canceled    0\n",
      "reserved_room_type                0\n",
      "assigned_room_type                0\n",
      "booking_changes                   0\n",
      "deposit_type                      0\n",
      "days_in_waiting_list              0\n",
      "customer_type                     0\n",
      "adr                               0\n",
      "required_car_parking_spaces       0\n",
      "total_of_special_requests         0\n",
      "dtype: int64\n"
     ]
    }
   ],
   "source": [
    "colonne_a_garder = [\"hotel\", \"is_canceled\", \"lead_time\", \"arrival_date_year\", \"arrival_date_month\", \"arrival_date_day_of_month\", \"reservation_status_date\", \"stays_in_weekend_nights\", \"stays_in_week_nights\", \"adults\", \"children\", \"babies\", \"meal\", \"country\", \"market_segment\", \"is_repeated_guest\", \"previous_cancellations\", \"previous_bookings_not_canceled\", \"reserved_room_type\", \"assigned_room_type\", \"booking_changes\", \"deposit_type\", \"days_in_waiting_list\", \"customer_type\", \"adr\", \"required_car_parking_spaces\", \"total_of_special_requests\"]\n",
    "df = df[colonne_a_garder]\n",
    "df.dropna(inplace=True)\n",
    "df.drop_duplicates(subset=colonne_a_garder, inplace=True)\n",
    "print(df.isnull().sum())\n",
    "\n"
   ]
  },
  {
   "cell_type": "markdown",
   "metadata": {},
   "source": [
    "## type of columns (date, ...)"
   ]
  },
  {
   "cell_type": "code",
   "execution_count": 9,
   "metadata": {},
   "outputs": [
    {
     "name": "stdout",
     "output_type": "stream",
     "text": [
      "          hotel  is_canceled  lead_time  arrival_date_year  \\\n",
      "0  Resort Hotel            0        342                  0   \n",
      "1  Resort Hotel            0        737                  0   \n",
      "2  Resort Hotel            0          7                  0   \n",
      "3  Resort Hotel            0         13                  0   \n",
      "4  Resort Hotel            0         14                  0   \n",
      "\n",
      "   arrival_date_month  arrival_date_day_of_month  stays_in_weekend_nights  \\\n",
      "0                   7                          1                        0   \n",
      "1                   7                          1                        0   \n",
      "2                   7                          1                        0   \n",
      "3                   7                          1                        0   \n",
      "4                   7                          1                        0   \n",
      "\n",
      "   stays_in_week_nights  adults  children  ...  booking_changes deposit_type  \\\n",
      "0                     0       2       0.0  ...                3   No Deposit   \n",
      "1                     0       2       0.0  ...                4   No Deposit   \n",
      "2                     1       1       0.0  ...                0   No Deposit   \n",
      "3                     1       1       0.0  ...                0   No Deposit   \n",
      "4                     2       2       0.0  ...                0   No Deposit   \n",
      "\n",
      "  days_in_waiting_list customer_type   adr  required_car_parking_spaces  \\\n",
      "0                    0     Transient   0.0                            0   \n",
      "1                    0     Transient   0.0                            0   \n",
      "2                    0     Transient  75.0                            0   \n",
      "3                    0     Transient  75.0                            0   \n",
      "4                    0     Transient  98.0                            0   \n",
      "\n",
      "   total_of_special_requests reservation_day reservation_month  \\\n",
      "0                          0               1                 7   \n",
      "1                          0               1                 7   \n",
      "2                          0               2                 7   \n",
      "3                          0               2                 7   \n",
      "4                          1               3                 7   \n",
      "\n",
      "   reservation_year  \n",
      "0                 0  \n",
      "1                 0  \n",
      "2                 0  \n",
      "3                 0  \n",
      "4                 0  \n",
      "\n",
      "[5 rows x 29 columns]\n"
     ]
    }
   ],
   "source": [
    "df['arrival_date_month'] = pd.to_datetime(df.arrival_date_month, format='%B', errors='coerce').dt.month\n",
    "df['arrival_date'] = pd.to_datetime(df[['arrival_date_year','arrival_date_month','arrival_date_day_of_month']].astype(str).agg('-'.join, axis=1))\n",
    "\n",
    "df['reservation_status_date'] = pd.to_datetime(df.reservation_status_date)\n",
    "df['reservation_day'] = df['reservation_status_date'].dt.day\n",
    "df['reservation_month'] = df['reservation_status_date'].dt.month\n",
    "df['reservation_year'] = df['reservation_status_date'].dt.year\n",
    "\n",
    "df_temporel = df.copy()\n",
    "df_temporel.drop(['arrival_date_year','arrival_date_month','arrival_date_day_of_month', 'reservation_day', 'reservation_month', 'reservation_year'], axis=1, inplace=True)\n",
    "df.drop([\"arrival_date\"], axis=1, inplace=True)\n",
    "df.drop([\"reservation_status_date\"], axis=1, inplace=True)\n",
    "\n",
    "df['arrival_date_year'] = df['arrival_date_year'] - 2015\n",
    "df['reservation_year'] = df['reservation_year'] - 2015\n",
    "print(df.head())\n",
    "# print(df_temporel.head())\n",
    "\n"
   ]
  },
  {
   "cell_type": "markdown",
   "metadata": {},
   "source": [
    "## nettoyage données valeurs aberrantes (var quanti), modalité seule (var quali)"
   ]
  },
  {
   "cell_type": "code",
   "execution_count": 10,
   "metadata": {},
   "outputs": [],
   "source": [
    "columns_to_filter_quanti = [\"lead_time\", \"stays_in_weekend_nights\", \"stays_in_week_nights\", \"adults\", \"children\", \"babies\", \"previous_cancellations\", \"previous_bookings_not_canceled\", \"booking_changes\", \"days_in_waiting_list\", \"adr\", \"required_car_parking_spaces\"]\n",
    "columns_to_filter_quali = [\"reserved_room_type\", \"assigned_room_type\"]\n",
    "\n",
    "# Filter variables quanti\n",
    "for column in columns_to_filter_quanti:\n",
    "    df = filter_occurence_variable(df, column, 10)\n",
    "    df_temporel = filter_occurence_variable(df_temporel, column, 10)\n",
    "\n",
    "# Filter variables quali\n",
    "for column in columns_to_filter_quali:\n",
    "    df = filter_occurence_variable(df, column, 10)\n",
    "    df_temporel = filter_occurence_variable(df_temporel, column, 10)\n",
    "\n",
    "df = df[df['meal'] != \"Undefined\"]\n",
    "df_temporel = df_temporel[df_temporel['meal'] != \"Undefined\"]"
   ]
  },
  {
   "cell_type": "markdown",
   "metadata": {},
   "source": [
    "## Encodage One-hot pour algo machine learning"
   ]
  },
  {
   "cell_type": "code",
   "execution_count": 11,
   "metadata": {},
   "outputs": [
    {
     "name": "stdout",
     "output_type": "stream",
     "text": [
      "<class 'pandas.core.frame.DataFrame'>\n",
      "Index: 68705 entries, 0 to 119389\n",
      "Columns: 230 entries, is_canceled to customer_type_Transient-Party\n",
      "dtypes: float64(2), int64(228)\n",
      "memory usage: 121.1 MB\n"
     ]
    }
   ],
   "source": [
    "col_quali = [\"hotel\", \"meal\", \"country\", \"market_segment\", \"reserved_room_type\", \"assigned_room_type\", \"deposit_type\", \"customer_type\"]\n",
    "df_encoded = pd.get_dummies(df, columns=col_quali, dtype=int)\n",
    "# df_encoded.drop([\"arrival_date\"], axis=1, inplace=True)\n",
    "for col in df_encoded.columns:\n",
    "    if df_encoded[col].dtype != \"float64\":\n",
    "        df_encoded[col] = df_encoded[col].astype('int64')\n",
    "\n",
    "df_encoded.info()"
   ]
  },
  {
   "cell_type": "markdown",
   "metadata": {},
   "source": [
    "## Standardiser ou normaliser les variables quantitatives"
   ]
  },
  {
   "cell_type": "code",
   "execution_count": 12,
   "metadata": {},
   "outputs": [],
   "source": [
    "# df = standardisation(df)\n",
    "# df_encoded = standardisation(df_encoded)\n",
    "df['lead_time'] = np.log(df['lead_time'] + 1)\n",
    "df['arrival_date_day_of_month'] = np.log(df['arrival_date_day_of_month'] + 1)\n",
    "df['adr'] = np.log(df['adr'] + 1)\n",
    "\n",
    "df_temporel['lead_time'] = np.log(df_temporel['lead_time'] + 1)\n",
    "df_temporel['adr'] = np.log(df_temporel['adr'] + 1)\n",
    "\n",
    "df_encoded['lead_time'] = np.log(df_encoded['lead_time'] + 1)\n",
    "df_encoded['arrival_date_day_of_month'] = np.log(df_encoded['arrival_date_day_of_month'] + 1)\n",
    "df_encoded['reservation_day'] = np.log(df_encoded['reservation_day'] + 1)\n",
    "df_encoded['adr'] = np.log(df_encoded['adr'] + 1)\n"
   ]
  },
  {
   "cell_type": "markdown",
   "metadata": {},
   "source": [
    "# Analyse exploratoire"
   ]
  },
  {
   "cell_type": "markdown",
   "metadata": {},
   "source": [
    "## Carte choroplèthe"
   ]
  },
  {
   "cell_type": "code",
   "execution_count": 13,
   "metadata": {},
   "outputs": [
    {
     "data": {
      "application/vnd.plotly.v1+json": {
       "config": {
        "plotlyServerURL": "https://plot.ly"
       },
       "data": [
        {
         "coloraxis": "coloraxis",
         "geo": "geo",
         "hovertemplate": "<b>%{hovertext}</b><br><br>country=%{location}<br>Nombre d'annulations=%{z}<extra></extra>",
         "hovertext": [
          "AGO",
          "ALB",
          "AND",
          "ARE",
          "ARG",
          "ARM",
          "AUS",
          "AUT",
          "AZE",
          "BEL",
          "BEN",
          "BGD",
          "BGR",
          "BHR",
          "BIH",
          "BLR",
          "BRA",
          "CHE",
          "CHL",
          "CHN",
          "CIV",
          "CN",
          "COL",
          "CPV",
          "CRI",
          "CYP",
          "CZE",
          "DEU",
          "DNK",
          "DOM",
          "DZA",
          "ECU",
          "EGY",
          "ESP",
          "EST",
          "ETH",
          "FIN",
          "FJI",
          "FRA",
          "FRO",
          "GAB",
          "GBR",
          "GEO",
          "GGY",
          "GHA",
          "GIB",
          "GLP",
          "GNB",
          "GRC",
          "HKG",
          "HND",
          "HRV",
          "HUN",
          "IDN",
          "IMN",
          "IND",
          "IRL",
          "IRN",
          "ISL",
          "ISR",
          "ITA",
          "JEY",
          "JOR",
          "JPN",
          "KAZ",
          "KEN",
          "KHM",
          "KOR",
          "KWT",
          "LBN",
          "LIE",
          "LTU",
          "LUX",
          "LVA",
          "MAC",
          "MAR",
          "MCO",
          "MDV",
          "MEX",
          "MKD",
          "MLT",
          "MOZ",
          "MUS",
          "MYS",
          "MYT",
          "NGA",
          "NIC",
          "NLD",
          "NOR",
          "NZL",
          "OMN",
          "PAK",
          "PER",
          "PHL",
          "POL",
          "PRI",
          "PRT",
          "QAT",
          "ROU",
          "RUS",
          "SAU",
          "SEN",
          "SGP",
          "SRB",
          "SVK",
          "SVN",
          "SWE",
          "SYC",
          "THA",
          "TJK",
          "TMP",
          "TUN",
          "TUR",
          "TWN",
          "TZA",
          "UKR",
          "UMI",
          "URY",
          "USA",
          "UZB",
          "VEN",
          "VGB",
          "VNM",
          "ZAF",
          "ZMB",
          "ZWE"
         ],
         "locations": [
          "AGO",
          "ALB",
          "AND",
          "ARE",
          "ARG",
          "ARM",
          "AUS",
          "AUT",
          "AZE",
          "BEL",
          "BEN",
          "BGD",
          "BGR",
          "BHR",
          "BIH",
          "BLR",
          "BRA",
          "CHE",
          "CHL",
          "CHN",
          "CIV",
          "CN",
          "COL",
          "CPV",
          "CRI",
          "CYP",
          "CZE",
          "DEU",
          "DNK",
          "DOM",
          "DZA",
          "ECU",
          "EGY",
          "ESP",
          "EST",
          "ETH",
          "FIN",
          "FJI",
          "FRA",
          "FRO",
          "GAB",
          "GBR",
          "GEO",
          "GGY",
          "GHA",
          "GIB",
          "GLP",
          "GNB",
          "GRC",
          "HKG",
          "HND",
          "HRV",
          "HUN",
          "IDN",
          "IMN",
          "IND",
          "IRL",
          "IRN",
          "ISL",
          "ISR",
          "ITA",
          "JEY",
          "JOR",
          "JPN",
          "KAZ",
          "KEN",
          "KHM",
          "KOR",
          "KWT",
          "LBN",
          "LIE",
          "LTU",
          "LUX",
          "LVA",
          "MAC",
          "MAR",
          "MCO",
          "MDV",
          "MEX",
          "MKD",
          "MLT",
          "MOZ",
          "MUS",
          "MYS",
          "MYT",
          "NGA",
          "NIC",
          "NLD",
          "NOR",
          "NZL",
          "OMN",
          "PAK",
          "PER",
          "PHL",
          "POL",
          "PRI",
          "PRT",
          "QAT",
          "ROU",
          "RUS",
          "SAU",
          "SEN",
          "SGP",
          "SRB",
          "SVK",
          "SVN",
          "SWE",
          "SYC",
          "THA",
          "TJK",
          "TMP",
          "TUN",
          "TUR",
          "TWN",
          "TZA",
          "UKR",
          "UMI",
          "URY",
          "USA",
          "UZB",
          "VEN",
          "VGB",
          "VNM",
          "ZAF",
          "ZMB",
          "ZWE"
         ],
         "name": "",
         "type": "choropleth",
         "z": [
          107,
          2,
          4,
          31,
          43,
          1,
          86,
          136,
          4,
          349,
          3,
          5,
          7,
          4,
          3,
          6,
          603,
          320,
          12,
          252,
          2,
          195,
          22,
          7,
          1,
          9,
          31,
          899,
          74,
          4,
          15,
          7,
          4,
          1545,
          13,
          1,
          51,
          1,
          1455,
          2,
          2,
          1684,
          11,
          2,
          2,
          9,
          1,
          1,
          27,
          19,
          1,
          15,
          50,
          11,
          2,
          27,
          522,
          18,
          2,
          124,
          930,
          7,
          3,
          23,
          4,
          1,
          1,
          41,
          5,
          6,
          1,
          6,
          88,
          5,
          8,
          85,
          1,
          7,
          7,
          2,
          4,
          14,
          1,
          3,
          1,
          16,
          1,
          302,
          126,
          4,
          4,
          7,
          4,
          18,
          125,
          1,
          7504,
          9,
          93,
          172,
          20,
          5,
          10,
          1,
          9,
          5,
          139,
          1,
          12,
          1,
          1,
          14,
          80,
          13,
          3,
          13,
          1,
          8,
          380,
          1,
          7,
          1,
          2,
          25,
          1,
          2
         ]
        }
       ],
       "layout": {
        "coloraxis": {
         "colorbar": {
          "title": {
           "text": "Nombre d'annulations"
          }
         },
         "colorscale": [
          [
           0,
           "rgb(8,48,107)"
          ],
          [
           0.125,
           "rgb(8,81,156)"
          ],
          [
           0.25,
           "rgb(33,113,181)"
          ],
          [
           0.375,
           "rgb(66,146,198)"
          ],
          [
           0.5,
           "rgb(107,174,214)"
          ],
          [
           0.625,
           "rgb(158,202,225)"
          ],
          [
           0.75,
           "rgb(198,219,239)"
          ],
          [
           0.875,
           "rgb(222,235,247)"
          ],
          [
           1,
           "rgb(247,251,255)"
          ]
         ]
        },
        "geo": {
         "center": {},
         "domain": {
          "x": [
           0,
           1
          ],
          "y": [
           0,
           1
          ]
         }
        },
        "height": 600,
        "legend": {
         "tracegroupgap": 0
        },
        "template": {
         "data": {
          "bar": [
           {
            "error_x": {
             "color": "#2a3f5f"
            },
            "error_y": {
             "color": "#2a3f5f"
            },
            "marker": {
             "line": {
              "color": "#E5ECF6",
              "width": 0.5
             },
             "pattern": {
              "fillmode": "overlay",
              "size": 10,
              "solidity": 0.2
             }
            },
            "type": "bar"
           }
          ],
          "barpolar": [
           {
            "marker": {
             "line": {
              "color": "#E5ECF6",
              "width": 0.5
             },
             "pattern": {
              "fillmode": "overlay",
              "size": 10,
              "solidity": 0.2
             }
            },
            "type": "barpolar"
           }
          ],
          "carpet": [
           {
            "aaxis": {
             "endlinecolor": "#2a3f5f",
             "gridcolor": "white",
             "linecolor": "white",
             "minorgridcolor": "white",
             "startlinecolor": "#2a3f5f"
            },
            "baxis": {
             "endlinecolor": "#2a3f5f",
             "gridcolor": "white",
             "linecolor": "white",
             "minorgridcolor": "white",
             "startlinecolor": "#2a3f5f"
            },
            "type": "carpet"
           }
          ],
          "choropleth": [
           {
            "colorbar": {
             "outlinewidth": 0,
             "ticks": ""
            },
            "type": "choropleth"
           }
          ],
          "contour": [
           {
            "colorbar": {
             "outlinewidth": 0,
             "ticks": ""
            },
            "colorscale": [
             [
              0,
              "#0d0887"
             ],
             [
              0.1111111111111111,
              "#46039f"
             ],
             [
              0.2222222222222222,
              "#7201a8"
             ],
             [
              0.3333333333333333,
              "#9c179e"
             ],
             [
              0.4444444444444444,
              "#bd3786"
             ],
             [
              0.5555555555555556,
              "#d8576b"
             ],
             [
              0.6666666666666666,
              "#ed7953"
             ],
             [
              0.7777777777777778,
              "#fb9f3a"
             ],
             [
              0.8888888888888888,
              "#fdca26"
             ],
             [
              1,
              "#f0f921"
             ]
            ],
            "type": "contour"
           }
          ],
          "contourcarpet": [
           {
            "colorbar": {
             "outlinewidth": 0,
             "ticks": ""
            },
            "type": "contourcarpet"
           }
          ],
          "heatmap": [
           {
            "colorbar": {
             "outlinewidth": 0,
             "ticks": ""
            },
            "colorscale": [
             [
              0,
              "#0d0887"
             ],
             [
              0.1111111111111111,
              "#46039f"
             ],
             [
              0.2222222222222222,
              "#7201a8"
             ],
             [
              0.3333333333333333,
              "#9c179e"
             ],
             [
              0.4444444444444444,
              "#bd3786"
             ],
             [
              0.5555555555555556,
              "#d8576b"
             ],
             [
              0.6666666666666666,
              "#ed7953"
             ],
             [
              0.7777777777777778,
              "#fb9f3a"
             ],
             [
              0.8888888888888888,
              "#fdca26"
             ],
             [
              1,
              "#f0f921"
             ]
            ],
            "type": "heatmap"
           }
          ],
          "heatmapgl": [
           {
            "colorbar": {
             "outlinewidth": 0,
             "ticks": ""
            },
            "colorscale": [
             [
              0,
              "#0d0887"
             ],
             [
              0.1111111111111111,
              "#46039f"
             ],
             [
              0.2222222222222222,
              "#7201a8"
             ],
             [
              0.3333333333333333,
              "#9c179e"
             ],
             [
              0.4444444444444444,
              "#bd3786"
             ],
             [
              0.5555555555555556,
              "#d8576b"
             ],
             [
              0.6666666666666666,
              "#ed7953"
             ],
             [
              0.7777777777777778,
              "#fb9f3a"
             ],
             [
              0.8888888888888888,
              "#fdca26"
             ],
             [
              1,
              "#f0f921"
             ]
            ],
            "type": "heatmapgl"
           }
          ],
          "histogram": [
           {
            "marker": {
             "pattern": {
              "fillmode": "overlay",
              "size": 10,
              "solidity": 0.2
             }
            },
            "type": "histogram"
           }
          ],
          "histogram2d": [
           {
            "colorbar": {
             "outlinewidth": 0,
             "ticks": ""
            },
            "colorscale": [
             [
              0,
              "#0d0887"
             ],
             [
              0.1111111111111111,
              "#46039f"
             ],
             [
              0.2222222222222222,
              "#7201a8"
             ],
             [
              0.3333333333333333,
              "#9c179e"
             ],
             [
              0.4444444444444444,
              "#bd3786"
             ],
             [
              0.5555555555555556,
              "#d8576b"
             ],
             [
              0.6666666666666666,
              "#ed7953"
             ],
             [
              0.7777777777777778,
              "#fb9f3a"
             ],
             [
              0.8888888888888888,
              "#fdca26"
             ],
             [
              1,
              "#f0f921"
             ]
            ],
            "type": "histogram2d"
           }
          ],
          "histogram2dcontour": [
           {
            "colorbar": {
             "outlinewidth": 0,
             "ticks": ""
            },
            "colorscale": [
             [
              0,
              "#0d0887"
             ],
             [
              0.1111111111111111,
              "#46039f"
             ],
             [
              0.2222222222222222,
              "#7201a8"
             ],
             [
              0.3333333333333333,
              "#9c179e"
             ],
             [
              0.4444444444444444,
              "#bd3786"
             ],
             [
              0.5555555555555556,
              "#d8576b"
             ],
             [
              0.6666666666666666,
              "#ed7953"
             ],
             [
              0.7777777777777778,
              "#fb9f3a"
             ],
             [
              0.8888888888888888,
              "#fdca26"
             ],
             [
              1,
              "#f0f921"
             ]
            ],
            "type": "histogram2dcontour"
           }
          ],
          "mesh3d": [
           {
            "colorbar": {
             "outlinewidth": 0,
             "ticks": ""
            },
            "type": "mesh3d"
           }
          ],
          "parcoords": [
           {
            "line": {
             "colorbar": {
              "outlinewidth": 0,
              "ticks": ""
             }
            },
            "type": "parcoords"
           }
          ],
          "pie": [
           {
            "automargin": true,
            "type": "pie"
           }
          ],
          "scatter": [
           {
            "fillpattern": {
             "fillmode": "overlay",
             "size": 10,
             "solidity": 0.2
            },
            "type": "scatter"
           }
          ],
          "scatter3d": [
           {
            "line": {
             "colorbar": {
              "outlinewidth": 0,
              "ticks": ""
             }
            },
            "marker": {
             "colorbar": {
              "outlinewidth": 0,
              "ticks": ""
             }
            },
            "type": "scatter3d"
           }
          ],
          "scattercarpet": [
           {
            "marker": {
             "colorbar": {
              "outlinewidth": 0,
              "ticks": ""
             }
            },
            "type": "scattercarpet"
           }
          ],
          "scattergeo": [
           {
            "marker": {
             "colorbar": {
              "outlinewidth": 0,
              "ticks": ""
             }
            },
            "type": "scattergeo"
           }
          ],
          "scattergl": [
           {
            "marker": {
             "colorbar": {
              "outlinewidth": 0,
              "ticks": ""
             }
            },
            "type": "scattergl"
           }
          ],
          "scattermapbox": [
           {
            "marker": {
             "colorbar": {
              "outlinewidth": 0,
              "ticks": ""
             }
            },
            "type": "scattermapbox"
           }
          ],
          "scatterpolar": [
           {
            "marker": {
             "colorbar": {
              "outlinewidth": 0,
              "ticks": ""
             }
            },
            "type": "scatterpolar"
           }
          ],
          "scatterpolargl": [
           {
            "marker": {
             "colorbar": {
              "outlinewidth": 0,
              "ticks": ""
             }
            },
            "type": "scatterpolargl"
           }
          ],
          "scatterternary": [
           {
            "marker": {
             "colorbar": {
              "outlinewidth": 0,
              "ticks": ""
             }
            },
            "type": "scatterternary"
           }
          ],
          "surface": [
           {
            "colorbar": {
             "outlinewidth": 0,
             "ticks": ""
            },
            "colorscale": [
             [
              0,
              "#0d0887"
             ],
             [
              0.1111111111111111,
              "#46039f"
             ],
             [
              0.2222222222222222,
              "#7201a8"
             ],
             [
              0.3333333333333333,
              "#9c179e"
             ],
             [
              0.4444444444444444,
              "#bd3786"
             ],
             [
              0.5555555555555556,
              "#d8576b"
             ],
             [
              0.6666666666666666,
              "#ed7953"
             ],
             [
              0.7777777777777778,
              "#fb9f3a"
             ],
             [
              0.8888888888888888,
              "#fdca26"
             ],
             [
              1,
              "#f0f921"
             ]
            ],
            "type": "surface"
           }
          ],
          "table": [
           {
            "cells": {
             "fill": {
              "color": "#EBF0F8"
             },
             "line": {
              "color": "white"
             }
            },
            "header": {
             "fill": {
              "color": "#C8D4E3"
             },
             "line": {
              "color": "white"
             }
            },
            "type": "table"
           }
          ]
         },
         "layout": {
          "annotationdefaults": {
           "arrowcolor": "#2a3f5f",
           "arrowhead": 0,
           "arrowwidth": 1
          },
          "autotypenumbers": "strict",
          "coloraxis": {
           "colorbar": {
            "outlinewidth": 0,
            "ticks": ""
           }
          },
          "colorscale": {
           "diverging": [
            [
             0,
             "#8e0152"
            ],
            [
             0.1,
             "#c51b7d"
            ],
            [
             0.2,
             "#de77ae"
            ],
            [
             0.3,
             "#f1b6da"
            ],
            [
             0.4,
             "#fde0ef"
            ],
            [
             0.5,
             "#f7f7f7"
            ],
            [
             0.6,
             "#e6f5d0"
            ],
            [
             0.7,
             "#b8e186"
            ],
            [
             0.8,
             "#7fbc41"
            ],
            [
             0.9,
             "#4d9221"
            ],
            [
             1,
             "#276419"
            ]
           ],
           "sequential": [
            [
             0,
             "#0d0887"
            ],
            [
             0.1111111111111111,
             "#46039f"
            ],
            [
             0.2222222222222222,
             "#7201a8"
            ],
            [
             0.3333333333333333,
             "#9c179e"
            ],
            [
             0.4444444444444444,
             "#bd3786"
            ],
            [
             0.5555555555555556,
             "#d8576b"
            ],
            [
             0.6666666666666666,
             "#ed7953"
            ],
            [
             0.7777777777777778,
             "#fb9f3a"
            ],
            [
             0.8888888888888888,
             "#fdca26"
            ],
            [
             1,
             "#f0f921"
            ]
           ],
           "sequentialminus": [
            [
             0,
             "#0d0887"
            ],
            [
             0.1111111111111111,
             "#46039f"
            ],
            [
             0.2222222222222222,
             "#7201a8"
            ],
            [
             0.3333333333333333,
             "#9c179e"
            ],
            [
             0.4444444444444444,
             "#bd3786"
            ],
            [
             0.5555555555555556,
             "#d8576b"
            ],
            [
             0.6666666666666666,
             "#ed7953"
            ],
            [
             0.7777777777777778,
             "#fb9f3a"
            ],
            [
             0.8888888888888888,
             "#fdca26"
            ],
            [
             1,
             "#f0f921"
            ]
           ]
          },
          "colorway": [
           "#636efa",
           "#EF553B",
           "#00cc96",
           "#ab63fa",
           "#FFA15A",
           "#19d3f3",
           "#FF6692",
           "#B6E880",
           "#FF97FF",
           "#FECB52"
          ],
          "font": {
           "color": "#2a3f5f"
          },
          "geo": {
           "bgcolor": "white",
           "lakecolor": "white",
           "landcolor": "#E5ECF6",
           "showlakes": true,
           "showland": true,
           "subunitcolor": "white"
          },
          "hoverlabel": {
           "align": "left"
          },
          "hovermode": "closest",
          "mapbox": {
           "style": "light"
          },
          "paper_bgcolor": "white",
          "plot_bgcolor": "#E5ECF6",
          "polar": {
           "angularaxis": {
            "gridcolor": "white",
            "linecolor": "white",
            "ticks": ""
           },
           "bgcolor": "#E5ECF6",
           "radialaxis": {
            "gridcolor": "white",
            "linecolor": "white",
            "ticks": ""
           }
          },
          "scene": {
           "xaxis": {
            "backgroundcolor": "#E5ECF6",
            "gridcolor": "white",
            "gridwidth": 2,
            "linecolor": "white",
            "showbackground": true,
            "ticks": "",
            "zerolinecolor": "white"
           },
           "yaxis": {
            "backgroundcolor": "#E5ECF6",
            "gridcolor": "white",
            "gridwidth": 2,
            "linecolor": "white",
            "showbackground": true,
            "ticks": "",
            "zerolinecolor": "white"
           },
           "zaxis": {
            "backgroundcolor": "#E5ECF6",
            "gridcolor": "white",
            "gridwidth": 2,
            "linecolor": "white",
            "showbackground": true,
            "ticks": "",
            "zerolinecolor": "white"
           }
          },
          "shapedefaults": {
           "line": {
            "color": "#2a3f5f"
           }
          },
          "ternary": {
           "aaxis": {
            "gridcolor": "white",
            "linecolor": "white",
            "ticks": ""
           },
           "baxis": {
            "gridcolor": "white",
            "linecolor": "white",
            "ticks": ""
           },
           "bgcolor": "#E5ECF6",
           "caxis": {
            "gridcolor": "white",
            "linecolor": "white",
            "ticks": ""
           }
          },
          "title": {
           "x": 0.05
          },
          "xaxis": {
           "automargin": true,
           "gridcolor": "white",
           "linecolor": "white",
           "ticks": "",
           "title": {
            "standoff": 15
           },
           "zerolinecolor": "white",
           "zerolinewidth": 2
          },
          "yaxis": {
           "automargin": true,
           "gridcolor": "white",
           "linecolor": "white",
           "ticks": "",
           "title": {
            "standoff": 15
           },
           "zerolinecolor": "white",
           "zerolinewidth": 2
          }
         }
        },
        "title": {
         "text": "Nombre d'annulations par pays"
        },
        "width": 800
       }
      }
     },
     "metadata": {},
     "output_type": "display_data"
    }
   ],
   "source": [
    "import plotly.express as px\n",
    "\n",
    "# Créer un DataFrame avec le nombre d'annulations par pays\n",
    "df_cancelled = df[df['is_canceled'] == 1].groupby('country').size().reset_index(name='num_cancellations')\n",
    "\n",
    "# Créer la carte choroplèthe\n",
    "fig = px.choropleth(df_cancelled, locations='country',\n",
    "                    color='num_cancellations',\n",
    "                    hover_name='country',\n",
    "                    color_continuous_scale=px.colors.sequential.Blues_r,\n",
    "                    title='Nombre d\\'annulations par pays',\n",
    "                    labels={'num_cancellations':'Nombre d\\'annulations'})\n",
    "\n",
    "fig.update_layout(width=800, height=600)\n",
    "\n",
    "fig.show()\n"
   ]
  },
  {
   "cell_type": "markdown",
   "metadata": {},
   "source": [
    "# Modèles de prédictions"
   ]
  },
  {
   "cell_type": "markdown",
   "metadata": {},
   "source": [
    "## Régression logistique"
   ]
  },
  {
   "cell_type": "markdown",
   "metadata": {},
   "source": [
    "bonne accuracy: pas dû à distribution_channel, pas dû au fait qu'il y a + de données (sans enlever doublons et occurences min) \n",
    "\n",
    "Raison: reservation_status permet de passer de 0.82 d'accuracy à 1\n",
    "\n",
    "mettre la date de réservation permet de passer de 0.82 à 0.90\n",
    "\n",
    "Je pense qu'il esy mieux de mettre toutes les colonnes pour un modèle"
   ]
  },
  {
   "cell_type": "code",
   "execution_count": 14,
   "metadata": {},
   "outputs": [
    {
     "name": "stdout",
     "output_type": "stream",
     "text": [
      "Scores de validation croisée : [0.86762244 0.85685176 0.88326905 0.9037188  0.87824758]\n",
      "Moyenne des scores de validation croisée : 0.88\n",
      "Accuracy of logistic regression classifier on test set: 0.90\n",
      "              precision    recall  f1-score   support\n",
      "\n",
      "           0       0.90      0.98      0.94      9910\n",
      "           1       0.94      0.71      0.80      3831\n",
      "\n",
      "    accuracy                           0.90     13741\n",
      "   macro avg       0.92      0.84      0.87     13741\n",
      "weighted avg       0.91      0.90      0.90     13741\n",
      "\n"
     ]
    },
    {
     "data": {
      "image/png": "[encoded data removed]",
      "text/plain": [
       "<Figure size 640x480 with 2 Axes>"
      ]
     },
     "metadata": {},
     "output_type": "display_data"
    },
    {
     "data": {
      "image/png": "[encoded data removed]",
      "text/plain": [
       "<Figure size 640x480 with 1 Axes>"
      ]
     },
     "metadata": {},
     "output_type": "display_data"
    }
   ],
   "source": [
    "from sklearn.linear_model import LogisticRegression\n",
    "from sklearn.metrics import ConfusionMatrixDisplay, classification_report\n",
    "from sklearn.model_selection import train_test_split\n",
    "from sklearn.metrics import confusion_matrix\n",
    "from sklearn.metrics import roc_auc_score\n",
    "from sklearn.metrics import roc_curve\n",
    "from sklearn.model_selection import cross_val_score\n",
    "\n",
    "\n",
    "X = df_encoded.drop(['is_canceled'], axis=1)\n",
    "y = df_encoded['is_canceled']\n",
    "\n",
    "logreg = LogisticRegression()\n",
    "\n",
    "scores = cross_val_score(logreg, X, y, cv=5)\n",
    "print('Scores de validation croisée :', scores)\n",
    "print('Moyenne des scores de validation croisée : {:.2f}'.format(scores.mean()))\n",
    "\n",
    "X_train, X_test, y_train, y_test = train_test_split(X, y, test_size=0.2, random_state=0)\n",
    "\n",
    "logreg.fit(X_train, y_train)\n",
    "y_pred = logreg.predict(X_test)\n",
    "print('Accuracy of logistic regression classifier on test set: {:.2f}'.format(logreg.score(X_test, y_test)))\n",
    "\n",
    "cm = confusion_matrix(y_test, y_pred)\n",
    "confusion_matrix = ConfusionMatrixDisplay(cm, display_labels=logreg.classes_).plot()\n",
    "print(classification_report(y_test, y_pred))\n",
    "\n",
    "logit_roc_auc = roc_auc_score(y_test, logreg.predict(X_test))\n",
    "fpr, tpr, thresholds = roc_curve(y_test, logreg.predict_proba(X_test)[:,1])\n",
    "plt.figure()\n",
    "plt.plot(fpr, tpr, label='Logistic Regression (area = %0.2f)' % logit_roc_auc)\n",
    "plt.plot([0, 1], [0, 1],'r--')\n",
    "plt.xlim([0.0, 1.0])\n",
    "plt.ylim([0.0, 1.05])\n",
    "plt.xlabel('False Positive Rate')\n",
    "plt.ylabel('True Positive Rate')\n",
    "plt.title('Receiver operating characteristic')\n",
    "plt.legend(loc=\"lower right\")\n",
    "# plt.savefig('Log_ROC')\n",
    "plt.show()"
   ]
  },
  {
   "cell_type": "markdown",
   "metadata": {},
   "source": [
    "## Méthode de Boosting"
   ]
  },
  {
   "cell_type": "markdown",
   "metadata": {},
   "source": [
    "On va essayer de voir quellee méthode de Boosting je vais appliquer sur mes données entre XGBoost, CatBoost, Gradient Boosting ou AdaBoost"
   ]
  },
  {
   "cell_type": "markdown",
   "metadata": {},
   "source": [
    "Chaque algorithme de boosting a ses propres forces et faiblesses, et le choix entre eux dépend souvent du contexte spécifique. Voici quelques considérations générales :\n",
    "\n",
    "1. **AdaBoost** : AdaBoost est l'un des premiers algorithmes de boosting. Il est simple et efficace, mais il est aussi plus sensible aux valeurs aberrantes et au surapprentissage que d'autres méthodes de boosting. De plus, AdaBoost peut être plus lent à entraîner que des méthodes plus récentes comme XGBoost ou CatBoost.\n",
    "\n",
    "2. **Gradient Boosting** : Le Gradient Boosting est une amélioration de AdaBoost qui utilise la descente de gradient pour minimiser l'erreur. Il est généralement plus performant que AdaBoost, mais il peut aussi être sujet au surapprentissage si le nombre d'itérations (ou \"arbres\") est trop élevé. De plus, comme AdaBoost, il peut être plus lent à entraîner que XGBoost ou CatBoost.\n",
    "\n",
    "3. **XGBoost** : XGBoost est une implémentation optimisée du Gradient Boosting qui est conçue pour être très efficace et flexible. Il a tendance à être plus rapide et à donner de meilleurs résultats que AdaBoost ou le Gradient Boosting standard. Cependant, XGBoost peut être plus difficile à calibrer car il a de nombreux hyperparamètres.\n",
    "\n",
    "4. **CatBoost** : CatBoost est un algorithme de boosting qui a été spécialement conçu pour gérer les variables catégorielles. Si votre jeu de données contient de nombreuses variables catégorielles, CatBoost peut être une bonne option. Cependant, comme XGBoost, CatBoost a de nombreux hyperparamètres et peut être plus difficile à calibrer.\n",
    "\n",
    "En résumé, si votre jeu de données contient de nombreuses valeurs aberrantes ou si vous êtes préoccupé par le surapprentissage, vous pourriez vouloir éviter AdaBoost. Si votre jeu de données est très grand et que le temps d'entraînement est une préoccupation, vous pourriez vouloir éviter AdaBoost et le Gradient Boosting standard en faveur de XGBoost ou CatBoost. Si votre jeu de données contient de nombreuses variables catégorielles, CatBoost pourrait être une bonne option. Enfin, si la simplicité et l'interprétabilité sont des préoccupations, vous pourriez vouloir choisir AdaBoost ou le Gradient Boosting standard plutôt que XGBoost ou CatBoost."
   ]
  },
  {
   "cell_type": "markdown",
   "metadata": {},
   "source": [
    "Par simplicité, nous préfèrerions Gradient Boosting, qui est meilleure que AdaBoost. Cependant, XGBoost offre de bons résultats, CatBoost aussi mais pour CatBoost, on a déjà encoder les variables donc sa principale utilité est futile.\n",
    "\n",
    "Pour l'instant, nous allons juste utiliser la méthode Random Forest"
   ]
  },
  {
   "cell_type": "markdown",
   "metadata": {},
   "source": [
    "### Random Forest"
   ]
  },
  {
   "cell_type": "code",
   "execution_count": 15,
   "metadata": {},
   "outputs": [
    {
     "name": "stdout",
     "output_type": "stream",
     "text": [
      "Accuracy of random forest classifier on test set: 0.90\n"
     ]
    },
    {
     "data": {
      "image/png": "[encoded data removed]",
      "text/plain": [
       "<Figure size 640x480 with 1 Axes>"
      ]
     },
     "metadata": {},
     "output_type": "display_data"
    }
   ],
   "source": [
    "from sklearn.ensemble import RandomForestClassifier\n",
    "from sklearn.metrics import accuracy_score\n",
    "\n",
    "\n",
    "X = df_encoded.drop(['is_canceled'], axis=1)\n",
    "y = df_encoded['is_canceled']\n",
    "\n",
    "X_train, X_test, y_train, y_test = train_test_split(X, y, test_size=0.2, random_state=0)\n",
    "rf = RandomForestClassifier(n_estimators=100, random_state=0)\n",
    "rf.fit(X_train, y_train)\n",
    "y_pred_rf = rf.predict(X_test)\n",
    "print('Accuracy of random forest classifier on test set: {:.2f}'.format(accuracy_score(y_test, y_pred_rf)))\n",
    "\n",
    "rf_roc_auc = roc_auc_score(y_test, rf.predict(X_test))\n",
    "fpr, tpr, thresholds = roc_curve(y_test, rf.predict_proba(X_test)[:,1])\n",
    "plt.figure()\n",
    "plt.plot(fpr, tpr, label='Random Forest (area = %0.2f)' % rf_roc_auc)\n",
    "plt.plot([0, 1], [0, 1],'r--')\n",
    "plt.xlim([0.0, 1.0])\n",
    "plt.ylim([0.0, 1.05])\n",
    "plt.xlabel('False Positive Rate')\n",
    "plt.ylabel('True Positive Rate')\n",
    "plt.title('Receiver operating characteristic')\n",
    "plt.legend(loc=\"lower right\")\n",
    "# plt.savefig('Rf_ROC')\n",
    "plt.show()\n",
    "\n"
   ]
  },
  {
   "cell_type": "markdown",
   "metadata": {},
   "source": [
    "### Gradient Boosting"
   ]
  },
  {
   "cell_type": "code",
   "execution_count": 16,
   "metadata": {},
   "outputs": [
    {
     "name": "stdout",
     "output_type": "stream",
     "text": [
      "Accuracy of gradient boosting classifier on test set: 0.90\n"
     ]
    },
    {
     "data": {
      "image/png": "[encoded data removed]",
      "text/plain": [
       "<Figure size 640x480 with 1 Axes>"
      ]
     },
     "metadata": {},
     "output_type": "display_data"
    }
   ],
   "source": [
    "from sklearn.ensemble import GradientBoostingClassifier\n",
    "\n",
    "X = df_encoded.drop(['is_canceled'], axis=1)\n",
    "y = df_encoded['is_canceled']\n",
    "\n",
    "X_train, X_test, y_train, y_test = train_test_split(X, y, test_size=0.2, random_state=0)\n",
    "gb = GradientBoostingClassifier(n_estimators=100, random_state=0)\n",
    "gb.fit(X_train, y_train)\n",
    "y_pred_gb = gb.predict(X_test)\n",
    "print('Accuracy of gradient boosting classifier on test set: {:.2f}'.format(accuracy_score(y_test, y_pred_gb)))\n",
    "\n",
    "gb_roc_auc = roc_auc_score(y_test, gb.predict(X_test))\n",
    "fpr, tpr, thresholds = roc_curve(y_test, gb.predict_proba(X_test)[:,1])\n",
    "plt.figure()\n",
    "plt.plot(fpr, tpr, label='Gradient Boosting (area = %0.2f)' % gb_roc_auc)\n",
    "plt.plot([0, 1], [0, 1],'r--')\n",
    "plt.xlim([0.0, 1.0])\n",
    "plt.ylim([0.0, 1.05])\n",
    "plt.xlabel('False Positive Rate')\n",
    "plt.ylabel('True Positive Rate')\n",
    "plt.title('Receiver operating characteristic')\n",
    "plt.legend(loc=\"lower right\")\n",
    "# plt.savefig('Gb_ROC')\n",
    "plt.show()\n"
   ]
  },
  {
   "cell_type": "markdown",
   "metadata": {},
   "source": [
    "## ANN"
   ]
  },
  {
   "cell_type": "code",
   "execution_count": 17,
   "metadata": {},
   "outputs": [
    {
     "name": "stdout",
     "output_type": "stream",
     "text": [
      "Epoch 1/10\n",
      "1718/1718 [==============================] - 7s 4ms/step - loss: 0.2757 - accuracy: 0.8914 - val_loss: 0.1611 - val_accuracy: 0.9432\n",
      "Epoch 2/10\n",
      "1718/1718 [==============================] - 5s 3ms/step - loss: 0.1553 - accuracy: 0.9457 - val_loss: 0.1300 - val_accuracy: 0.9570\n",
      "Epoch 3/10\n",
      "1718/1718 [==============================] - 4s 2ms/step - loss: 0.1300 - accuracy: 0.9548 - val_loss: 0.1157 - val_accuracy: 0.9630\n",
      "Epoch 4/10\n",
      "1718/1718 [==============================] - 4s 2ms/step - loss: 0.1164 - accuracy: 0.9601 - val_loss: 0.1190 - val_accuracy: 0.9592\n",
      "Epoch 5/10\n",
      "1718/1718 [==============================] - 4s 2ms/step - loss: 0.1077 - accuracy: 0.9637 - val_loss: 0.1459 - val_accuracy: 0.9520\n",
      "Epoch 6/10\n",
      "1718/1718 [==============================] - 4s 2ms/step - loss: 0.1007 - accuracy: 0.9650 - val_loss: 0.1343 - val_accuracy: 0.9574\n",
      "Epoch 7/10\n",
      "1718/1718 [==============================] - 4s 2ms/step - loss: 0.0914 - accuracy: 0.9691 - val_loss: 0.0810 - val_accuracy: 0.9751\n",
      "Epoch 8/10\n",
      "1718/1718 [==============================] - 4s 2ms/step - loss: 0.0796 - accuracy: 0.9734 - val_loss: 0.0764 - val_accuracy: 0.9782\n",
      "Epoch 9/10\n",
      "1718/1718 [==============================] - 4s 2ms/step - loss: 0.0695 - accuracy: 0.9770 - val_loss: 0.0656 - val_accuracy: 0.9830\n",
      "Epoch 10/10\n",
      "1718/1718 [==============================] - 4s 2ms/step - loss: 0.0601 - accuracy: 0.9802 - val_loss: 0.0604 - val_accuracy: 0.9841\n"
     ]
    }
   ],
   "source": [
    "from keras.models import Sequential\n",
    "from keras.layers import Dense\n",
    "from keras.utils import to_categorical\n",
    "from sklearn import metrics\n",
    "\n",
    "\n",
    "# Rest of the code\n",
    "X = df_encoded.drop('is_canceled', axis=1)\n",
    "y = to_categorical(df_encoded['is_canceled'])\n",
    "X_train, X_test, y_train, y_test = train_test_split(X, y, test_size=0.2, random_state=0)\n",
    "epochs = 10\n",
    "\n",
    "model = Sequential()\n",
    "model.add(Dense(100, activation = 'relu', input_shape = (X_train.shape[1], )))\n",
    "model.add(Dense(100, activation = 'relu'))\n",
    "model.add(Dense(2, activation = 'sigmoid'))\n",
    "model.compile(optimizer = 'adam', loss = 'binary_crossentropy', metrics = ['accuracy'])\n",
    "model_history = model.fit(X_train, y_train, validation_data = (X_test, y_test),\n",
    "                          epochs = epochs)"
   ]
  },
  {
   "cell_type": "code",
   "execution_count": 25,
   "metadata": {},
   "outputs": [
    {
     "name": "stdout",
     "output_type": "stream",
     "text": [
      "430/430 [==============================] - 1s 1ms/step\n"
     ]
    },
    {
     "data": {
      "image/png": "[encoded data removed]",
      "text/plain": [
       "<Figure size 800x600 with 1 Axes>"
      ]
     },
     "metadata": {},
     "output_type": "display_data"
    }
   ],
   "source": [
    "from sklearn.metrics import roc_curve, auc\n",
    "train_acc = model_history.history['accuracy']\n",
    "val_acc = model_history.history['val_accuracy'] \n",
    "epoch = range(1, epochs + 1)\n",
    "\n",
    "\n",
    "accuracy = pd.DataFrame({'train_acc' : train_acc, 'val_acc' : val_acc})\n",
    "\n",
    "px.line(data_frame = accuracy, x = epoch, y = ['val_acc', 'train_acc'], title = 'Training and Validation Accuracy',\n",
    "        template = 'plotly_dark')\n",
    "\n",
    "\n",
    "# Calculer la courbe ROC et l'AUC\n",
    "fpr, tpr, thresholds = roc_curve(y_test[:,1], model.predict(X_test)[:,1])\n",
    "roc_auc = auc(fpr, tpr)\n",
    "\n",
    "# Afficher la courbe ROC avec l'AUC\n",
    "plt.figure(figsize=(8, 6))\n",
    "plt.plot(fpr, tpr, color='darkorange', lw=2, label='ROC curve (area = %0.2f)' % roc_auc)\n",
    "plt.plot([0, 1], [0, 1], color='navy', lw=2, linestyle='--')\n",
    "plt.xlim([0.0, 1.0])\n",
    "plt.ylim([0.0, 1.05])\n",
    "plt.xlabel('False Positive Rate')\n",
    "plt.ylabel('True Positive Rate')\n",
    "plt.title('Receiver Operating Characteristic (ROC)')\n",
    "plt.legend(loc=\"lower right\")\n",
    "plt.show()\n",
    "\n",
    "\n",
    "\n",
    "\n",
    "\n"
   ]
  }
 ],
 "metadata": {
  "kernelspec": {
   "display_name": "Python 3",
   "language": "python",
   "name": "python3"
  },
  "language_info": {
   "codemirror_mode": {
    "name": "ipython",
    "version": 3
   },
   "file_extension": ".py",
   "mimetype": "text/x-python",
   "name": "python",
   "nbconvert_exporter": "python",
   "pygments_lexer": "ipython3",
   "version": "3.11.2"
  }
 },
 "nbformat": 4,
 "nbformat_minor": 2
}
