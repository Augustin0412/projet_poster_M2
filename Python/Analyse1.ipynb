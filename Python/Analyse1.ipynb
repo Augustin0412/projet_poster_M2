{
 "cells": [
  {
   "cell_type": "markdown",
   "metadata": {},
   "source": [
    "hotel: The type of hotel, either \"City Hotel\" or \"Resort Hotel.\", resort = vacances\n",
    "\n",
    "is_canceled: Binary value indicating whether the booking was cancelled (1) or not (0).\n",
    "\n",
    "lead_time: Number of days between booking and arrival.\n",
    "\n",
    "arrival_date_year: Year of arrival date.\n",
    "\n",
    "arrival_date_month: Month of arrival date.\n",
    "\n",
    "arrival_date_week_number: Week number of arrival date.\n",
    "\n",
    "arrival_date_day_of_month: Day of the month of arrival date.\n",
    "\n",
    "stays_in_weekend_nights: Number of weekend nights (Saturday or Sunday) the guest stays.\n",
    "\n",
    "stays_in_week_nights: Number of weekday nights (Monday to Friday) the guest stays.\n",
    "\n",
    "adults: Number of adults.\n",
    "\n",
    "children: Number of children.\n",
    "\n",
    "babies: Number of babies.\n",
    "\n",
    "meal: Type of meal booked.\n",
    "\n",
    "country: Country of origin.\n",
    "\n",
    "market_segment: Market segment designation.\n",
    "\n",
    "distribution_channel: Booking distribution channel.\n",
    "\n",
    "is_repeated_guest: Binary value indicating whether the guest is a repeated guest (1) or not (0).\n",
    "\n",
    "previous_cancellations: Number of previous booking cancellations.\n",
    "\n",
    "previous_bookings_not_canceled: Number of previous bookings not cancelled.\n",
    "\n",
    "reserved_room_type: Code of room type reserved.\n",
    "\n",
    "assigned_room_type: Code of room type assigned at check-in.\n",
    "\n",
    "booking_changes: Number of changes/amendments made to the booking.\n",
    "\n",
    "deposit_type: Type of deposit made.\n",
    "\n",
    "agent: ID of the travel agency.\n",
    "\n",
    "company: ID of the company.\n",
    "\n",
    "days_in_waiting_list: Number of days in the waiting list before booking.\n",
    "\n",
    "customer_type: Type of booking.\n",
    "\n",
    "adr: Average daily rate. combien gagne l'hotel, pour la journée donnée, par chambre\n",
    "\n",
    "required_car_parking_spaces: Number of car parking spaces required.\n",
    "\n",
    "total_of_special_requests: Number of special requests made.\n",
    "\n",
    "reservation_status: Reservation last status.\n",
    "\n",
    "reservation_status_date: Date of the last status.\n",
    "\n",
    "name: Guest's name. (Not Real)\n",
    "\n",
    "email: Guest's email address.(Not Real)\n",
    "\n",
    "phone-number: Guest's phone number. (Not Real)\n",
    "\n",
    "credit_card: Guest's credit card details. (Not Real)"
   ]
  },
  {
   "cell_type": "code",
   "execution_count": 28,
   "metadata": {},
   "outputs": [],
   "source": [
    "import pandas as pd\n",
    "import numpy as np \n",
    "import matplotlib.pyplot as plt\n",
    "from fct import *\n",
    "from sklearn.preprocessing import StandardScaler\n",
    "import warnings\n",
    "warnings.filterwarnings(\"ignore\")\n",
    "pd.set_option('display.max_rows', None)  # Affiche toutes les lignes\n",
    "pd.set_option('display.max_columns', None)  # Affiche toutes les colonnes"
   ]
  },
  {
   "cell_type": "code",
   "execution_count": 29,
   "metadata": {},
   "outputs": [
    {
     "data": {
      "text/html": [
       "<div>\n",
       "<style scoped>\n",
       "    .dataframe tbody tr th:only-of-type {\n",
       "        vertical-align: middle;\n",
       "    }\n",
       "\n",
       "    .dataframe tbody tr th {\n",
       "        vertical-align: top;\n",
       "    }\n",
       "\n",
       "    .dataframe thead th {\n",
       "        text-align: right;\n",
       "    }\n",
       "</style>\n",
       "<table border=\"1\" class=\"dataframe\">\n",
       "  <thead>\n",
       "    <tr style=\"text-align: right;\">\n",
       "      <th></th>\n",
       "      <th>hotel</th>\n",
       "      <th>is_canceled</th>\n",
       "      <th>lead_time</th>\n",
       "      <th>arrival_date_year</th>\n",
       "      <th>arrival_date_month</th>\n",
       "      <th>arrival_date_week_number</th>\n",
       "      <th>arrival_date_day_of_month</th>\n",
       "      <th>stays_in_weekend_nights</th>\n",
       "      <th>stays_in_week_nights</th>\n",
       "      <th>adults</th>\n",
       "      <th>children</th>\n",
       "      <th>babies</th>\n",
       "      <th>meal</th>\n",
       "      <th>country</th>\n",
       "      <th>market_segment</th>\n",
       "      <th>distribution_channel</th>\n",
       "      <th>is_repeated_guest</th>\n",
       "      <th>previous_cancellations</th>\n",
       "      <th>previous_bookings_not_canceled</th>\n",
       "      <th>reserved_room_type</th>\n",
       "      <th>assigned_room_type</th>\n",
       "      <th>booking_changes</th>\n",
       "      <th>deposit_type</th>\n",
       "      <th>agent</th>\n",
       "      <th>company</th>\n",
       "      <th>days_in_waiting_list</th>\n",
       "      <th>customer_type</th>\n",
       "      <th>adr</th>\n",
       "      <th>required_car_parking_spaces</th>\n",
       "      <th>total_of_special_requests</th>\n",
       "      <th>reservation_status</th>\n",
       "      <th>reservation_status_date</th>\n",
       "    </tr>\n",
       "  </thead>\n",
       "  <tbody>\n",
       "    <tr>\n",
       "      <th>0</th>\n",
       "      <td>Resort Hotel</td>\n",
       "      <td>0</td>\n",
       "      <td>342</td>\n",
       "      <td>2015</td>\n",
       "      <td>July</td>\n",
       "      <td>27</td>\n",
       "      <td>1</td>\n",
       "      <td>0</td>\n",
       "      <td>0</td>\n",
       "      <td>2</td>\n",
       "      <td>0.0</td>\n",
       "      <td>0</td>\n",
       "      <td>BB</td>\n",
       "      <td>PRT</td>\n",
       "      <td>Direct</td>\n",
       "      <td>Direct</td>\n",
       "      <td>0</td>\n",
       "      <td>0</td>\n",
       "      <td>0</td>\n",
       "      <td>C</td>\n",
       "      <td>C</td>\n",
       "      <td>3</td>\n",
       "      <td>No Deposit</td>\n",
       "      <td>NaN</td>\n",
       "      <td>NaN</td>\n",
       "      <td>0</td>\n",
       "      <td>Transient</td>\n",
       "      <td>0.0</td>\n",
       "      <td>0</td>\n",
       "      <td>0</td>\n",
       "      <td>Check-Out</td>\n",
       "      <td>2015-07-01</td>\n",
       "    </tr>\n",
       "    <tr>\n",
       "      <th>1</th>\n",
       "      <td>Resort Hotel</td>\n",
       "      <td>0</td>\n",
       "      <td>737</td>\n",
       "      <td>2015</td>\n",
       "      <td>July</td>\n",
       "      <td>27</td>\n",
       "      <td>1</td>\n",
       "      <td>0</td>\n",
       "      <td>0</td>\n",
       "      <td>2</td>\n",
       "      <td>0.0</td>\n",
       "      <td>0</td>\n",
       "      <td>BB</td>\n",
       "      <td>PRT</td>\n",
       "      <td>Direct</td>\n",
       "      <td>Direct</td>\n",
       "      <td>0</td>\n",
       "      <td>0</td>\n",
       "      <td>0</td>\n",
       "      <td>C</td>\n",
       "      <td>C</td>\n",
       "      <td>4</td>\n",
       "      <td>No Deposit</td>\n",
       "      <td>NaN</td>\n",
       "      <td>NaN</td>\n",
       "      <td>0</td>\n",
       "      <td>Transient</td>\n",
       "      <td>0.0</td>\n",
       "      <td>0</td>\n",
       "      <td>0</td>\n",
       "      <td>Check-Out</td>\n",
       "      <td>2015-07-01</td>\n",
       "    </tr>\n",
       "    <tr>\n",
       "      <th>2</th>\n",
       "      <td>Resort Hotel</td>\n",
       "      <td>0</td>\n",
       "      <td>7</td>\n",
       "      <td>2015</td>\n",
       "      <td>July</td>\n",
       "      <td>27</td>\n",
       "      <td>1</td>\n",
       "      <td>0</td>\n",
       "      <td>1</td>\n",
       "      <td>1</td>\n",
       "      <td>0.0</td>\n",
       "      <td>0</td>\n",
       "      <td>BB</td>\n",
       "      <td>GBR</td>\n",
       "      <td>Direct</td>\n",
       "      <td>Direct</td>\n",
       "      <td>0</td>\n",
       "      <td>0</td>\n",
       "      <td>0</td>\n",
       "      <td>A</td>\n",
       "      <td>C</td>\n",
       "      <td>0</td>\n",
       "      <td>No Deposit</td>\n",
       "      <td>NaN</td>\n",
       "      <td>NaN</td>\n",
       "      <td>0</td>\n",
       "      <td>Transient</td>\n",
       "      <td>75.0</td>\n",
       "      <td>0</td>\n",
       "      <td>0</td>\n",
       "      <td>Check-Out</td>\n",
       "      <td>2015-07-02</td>\n",
       "    </tr>\n",
       "    <tr>\n",
       "      <th>3</th>\n",
       "      <td>Resort Hotel</td>\n",
       "      <td>0</td>\n",
       "      <td>13</td>\n",
       "      <td>2015</td>\n",
       "      <td>July</td>\n",
       "      <td>27</td>\n",
       "      <td>1</td>\n",
       "      <td>0</td>\n",
       "      <td>1</td>\n",
       "      <td>1</td>\n",
       "      <td>0.0</td>\n",
       "      <td>0</td>\n",
       "      <td>BB</td>\n",
       "      <td>GBR</td>\n",
       "      <td>Corporate</td>\n",
       "      <td>Corporate</td>\n",
       "      <td>0</td>\n",
       "      <td>0</td>\n",
       "      <td>0</td>\n",
       "      <td>A</td>\n",
       "      <td>A</td>\n",
       "      <td>0</td>\n",
       "      <td>No Deposit</td>\n",
       "      <td>304.0</td>\n",
       "      <td>NaN</td>\n",
       "      <td>0</td>\n",
       "      <td>Transient</td>\n",
       "      <td>75.0</td>\n",
       "      <td>0</td>\n",
       "      <td>0</td>\n",
       "      <td>Check-Out</td>\n",
       "      <td>2015-07-02</td>\n",
       "    </tr>\n",
       "    <tr>\n",
       "      <th>4</th>\n",
       "      <td>Resort Hotel</td>\n",
       "      <td>0</td>\n",
       "      <td>14</td>\n",
       "      <td>2015</td>\n",
       "      <td>July</td>\n",
       "      <td>27</td>\n",
       "      <td>1</td>\n",
       "      <td>0</td>\n",
       "      <td>2</td>\n",
       "      <td>2</td>\n",
       "      <td>0.0</td>\n",
       "      <td>0</td>\n",
       "      <td>BB</td>\n",
       "      <td>GBR</td>\n",
       "      <td>Online TA</td>\n",
       "      <td>TA/TO</td>\n",
       "      <td>0</td>\n",
       "      <td>0</td>\n",
       "      <td>0</td>\n",
       "      <td>A</td>\n",
       "      <td>A</td>\n",
       "      <td>0</td>\n",
       "      <td>No Deposit</td>\n",
       "      <td>240.0</td>\n",
       "      <td>NaN</td>\n",
       "      <td>0</td>\n",
       "      <td>Transient</td>\n",
       "      <td>98.0</td>\n",
       "      <td>0</td>\n",
       "      <td>1</td>\n",
       "      <td>Check-Out</td>\n",
       "      <td>2015-07-03</td>\n",
       "    </tr>\n",
       "  </tbody>\n",
       "</table>\n",
       "</div>"
      ],
      "text/plain": [
       "          hotel  is_canceled  lead_time  arrival_date_year arrival_date_month  \\\n",
       "0  Resort Hotel            0        342               2015               July   \n",
       "1  Resort Hotel            0        737               2015               July   \n",
       "2  Resort Hotel            0          7               2015               July   \n",
       "3  Resort Hotel            0         13               2015               July   \n",
       "4  Resort Hotel            0         14               2015               July   \n",
       "\n",
       "   arrival_date_week_number  arrival_date_day_of_month  \\\n",
       "0                        27                          1   \n",
       "1                        27                          1   \n",
       "2                        27                          1   \n",
       "3                        27                          1   \n",
       "4                        27                          1   \n",
       "\n",
       "   stays_in_weekend_nights  stays_in_week_nights  adults  children  babies  \\\n",
       "0                        0                     0       2       0.0       0   \n",
       "1                        0                     0       2       0.0       0   \n",
       "2                        0                     1       1       0.0       0   \n",
       "3                        0                     1       1       0.0       0   \n",
       "4                        0                     2       2       0.0       0   \n",
       "\n",
       "  meal country market_segment distribution_channel  is_repeated_guest  \\\n",
       "0   BB     PRT         Direct               Direct                  0   \n",
       "1   BB     PRT         Direct               Direct                  0   \n",
       "2   BB     GBR         Direct               Direct                  0   \n",
       "3   BB     GBR      Corporate            Corporate                  0   \n",
       "4   BB     GBR      Online TA                TA/TO                  0   \n",
       "\n",
       "   previous_cancellations  previous_bookings_not_canceled reserved_room_type  \\\n",
       "0                       0                               0                  C   \n",
       "1                       0                               0                  C   \n",
       "2                       0                               0                  A   \n",
       "3                       0                               0                  A   \n",
       "4                       0                               0                  A   \n",
       "\n",
       "  assigned_room_type  booking_changes deposit_type  agent  company  \\\n",
       "0                  C                3   No Deposit    NaN      NaN   \n",
       "1                  C                4   No Deposit    NaN      NaN   \n",
       "2                  C                0   No Deposit    NaN      NaN   \n",
       "3                  A                0   No Deposit  304.0      NaN   \n",
       "4                  A                0   No Deposit  240.0      NaN   \n",
       "\n",
       "   days_in_waiting_list customer_type   adr  required_car_parking_spaces  \\\n",
       "0                     0     Transient   0.0                            0   \n",
       "1                     0     Transient   0.0                            0   \n",
       "2                     0     Transient  75.0                            0   \n",
       "3                     0     Transient  75.0                            0   \n",
       "4                     0     Transient  98.0                            0   \n",
       "\n",
       "   total_of_special_requests reservation_status reservation_status_date  \n",
       "0                          0          Check-Out              2015-07-01  \n",
       "1                          0          Check-Out              2015-07-01  \n",
       "2                          0          Check-Out              2015-07-02  \n",
       "3                          0          Check-Out              2015-07-02  \n",
       "4                          1          Check-Out              2015-07-03  "
      ]
     },
     "execution_count": 29,
     "metadata": {},
     "output_type": "execute_result"
    }
   ],
   "source": [
    "df = pd.read_csv(\"../hotel_bookings.csv\", sep=\",\")\n",
    "df.head()"
   ]
  },
  {
   "cell_type": "markdown",
   "metadata": {},
   "source": [
    "# Cleaning"
   ]
  },
  {
   "cell_type": "markdown",
   "metadata": {},
   "source": [
    "### NaN and select columns"
   ]
  },
  {
   "cell_type": "code",
   "execution_count": 30,
   "metadata": {},
   "outputs": [
    {
     "name": "stdout",
     "output_type": "stream",
     "text": [
      "hotel                             0\n",
      "is_canceled                       0\n",
      "lead_time                         0\n",
      "arrival_date_year                 0\n",
      "arrival_date_month                0\n",
      "arrival_date_day_of_month         0\n",
      "stays_in_weekend_nights           0\n",
      "stays_in_week_nights              0\n",
      "adults                            0\n",
      "children                          0\n",
      "babies                            0\n",
      "meal                              0\n",
      "country                           0\n",
      "market_segment                    0\n",
      "is_repeated_guest                 0\n",
      "previous_cancellations            0\n",
      "previous_bookings_not_canceled    0\n",
      "reserved_room_type                0\n",
      "assigned_room_type                0\n",
      "booking_changes                   0\n",
      "deposit_type                      0\n",
      "days_in_waiting_list              0\n",
      "customer_type                     0\n",
      "adr                               0\n",
      "required_car_parking_spaces       0\n",
      "total_of_special_requests         0\n",
      "dtype: int64\n"
     ]
    }
   ],
   "source": [
    "colonne_a_garder = [\"hotel\", \"is_canceled\", \"lead_time\", \"arrival_date_year\", \"arrival_date_month\", \"arrival_date_day_of_month\", \"stays_in_weekend_nights\", \"stays_in_week_nights\", \"adults\", \"children\", \"babies\", \"meal\", \"country\", \"market_segment\", \"is_repeated_guest\", \"previous_cancellations\", \"previous_bookings_not_canceled\", \"reserved_room_type\", \"assigned_room_type\", \"booking_changes\", \"deposit_type\", \"days_in_waiting_list\", \"customer_type\", \"adr\", \"required_car_parking_spaces\", \"total_of_special_requests\"]\n",
    "df = df[colonne_a_garder]\n",
    "df.dropna(inplace=True)\n",
    "df.drop_duplicates(subset=colonne_a_garder, inplace=True)\n",
    "print(df.isnull().sum())\n",
    "\n"
   ]
  },
  {
   "cell_type": "markdown",
   "metadata": {},
   "source": [
    "## type of columns (date, ...)"
   ]
  },
  {
   "cell_type": "code",
   "execution_count": 31,
   "metadata": {},
   "outputs": [
    {
     "name": "stdout",
     "output_type": "stream",
     "text": [
      "          hotel  is_canceled  lead_time  arrival_date_year  \\\n",
      "0  Resort Hotel            0        342                  0   \n",
      "1  Resort Hotel            0        737                  0   \n",
      "2  Resort Hotel            0          7                  0   \n",
      "3  Resort Hotel            0         13                  0   \n",
      "4  Resort Hotel            0         14                  0   \n",
      "\n",
      "   arrival_date_month  arrival_date_day_of_month  stays_in_weekend_nights  \\\n",
      "0                   7                          1                        0   \n",
      "1                   7                          1                        0   \n",
      "2                   7                          1                        0   \n",
      "3                   7                          1                        0   \n",
      "4                   7                          1                        0   \n",
      "\n",
      "   stays_in_week_nights  adults  children  babies meal country market_segment  \\\n",
      "0                     0       2       0.0       0   BB     PRT         Direct   \n",
      "1                     0       2       0.0       0   BB     PRT         Direct   \n",
      "2                     1       1       0.0       0   BB     GBR         Direct   \n",
      "3                     1       1       0.0       0   BB     GBR      Corporate   \n",
      "4                     2       2       0.0       0   BB     GBR      Online TA   \n",
      "\n",
      "   is_repeated_guest  previous_cancellations  previous_bookings_not_canceled  \\\n",
      "0                  0                       0                               0   \n",
      "1                  0                       0                               0   \n",
      "2                  0                       0                               0   \n",
      "3                  0                       0                               0   \n",
      "4                  0                       0                               0   \n",
      "\n",
      "  reserved_room_type assigned_room_type  booking_changes deposit_type  \\\n",
      "0                  C                  C                3   No Deposit   \n",
      "1                  C                  C                4   No Deposit   \n",
      "2                  A                  C                0   No Deposit   \n",
      "3                  A                  A                0   No Deposit   \n",
      "4                  A                  A                0   No Deposit   \n",
      "\n",
      "   days_in_waiting_list customer_type   adr  required_car_parking_spaces  \\\n",
      "0                     0     Transient   0.0                            0   \n",
      "1                     0     Transient   0.0                            0   \n",
      "2                     0     Transient  75.0                            0   \n",
      "3                     0     Transient  75.0                            0   \n",
      "4                     0     Transient  98.0                            0   \n",
      "\n",
      "   total_of_special_requests  \n",
      "0                          0  \n",
      "1                          0  \n",
      "2                          0  \n",
      "3                          0  \n",
      "4                          1  \n"
     ]
    }
   ],
   "source": [
    "df['arrival_date_month'] = pd.to_datetime(df.arrival_date_month, format='%B', errors='coerce').dt.month\n",
    "df['arrival_date'] = pd.to_datetime(df[['arrival_date_year','arrival_date_month','arrival_date_day_of_month']].astype(str).agg('-'.join, axis=1))\n",
    "\n",
    "df_temporel = df.copy()\n",
    "df_temporel.drop(['arrival_date_year','arrival_date_month','arrival_date_day_of_month'], axis=1, inplace=True)\n",
    "df.drop([\"arrival_date\"], axis=1, inplace=True)\n",
    "\n",
    "df['arrival_date_year'] = df['arrival_date_year'] - 2015\n",
    "print(df.head())\n",
    "# print(df_temporel.head())\n",
    "\n"
   ]
  },
  {
   "cell_type": "markdown",
   "metadata": {},
   "source": [
    "## nettoyage données valeurs aberrantes (var quanti), modalité seule (var quali)"
   ]
  },
  {
   "cell_type": "code",
   "execution_count": 32,
   "metadata": {},
   "outputs": [],
   "source": [
    "columns_to_filter_quanti = [\"lead_time\", \"stays_in_weekend_nights\", \"stays_in_week_nights\", \"adults\", \"children\", \"babies\", \"previous_cancellations\", \"previous_bookings_not_canceled\", \"booking_changes\", \"days_in_waiting_list\", \"adr\", \"required_car_parking_spaces\"]\n",
    "columns_to_filter_quali = [\"reserved_room_type\", \"assigned_room_type\"]\n",
    "\n",
    "# Filter variables quanti\n",
    "for column in columns_to_filter_quanti:\n",
    "    df = filter_occurence_variable(df, column, 10)\n",
    "    df_temporel = filter_occurence_variable(df_temporel, column, 10)\n",
    "\n",
    "# Filter variables quali\n",
    "for column in columns_to_filter_quali:\n",
    "    df = filter_occurence_variable(df, column, 10)\n",
    "    df_temporel = filter_occurence_variable(df_temporel, column, 10)\n",
    "\n",
    "df = df[df['meal'] != \"Undefined\"]\n",
    "df_temporel = df_temporel[df_temporel['meal'] != \"Undefined\"]"
   ]
  },
  {
   "cell_type": "markdown",
   "metadata": {},
   "source": [
    "## Encodage One-hot pour algo machine learning"
   ]
  },
  {
   "cell_type": "code",
   "execution_count": 33,
   "metadata": {},
   "outputs": [
    {
     "name": "stdout",
     "output_type": "stream",
     "text": [
      "<class 'pandas.core.frame.DataFrame'>\n",
      "Index: 68439 entries, 0 to 119389\n",
      "Columns: 227 entries, is_canceled to customer_type_Transient-Party\n",
      "dtypes: float64(2), int64(225)\n",
      "memory usage: 119.0 MB\n"
     ]
    }
   ],
   "source": [
    "col_quali = [\"hotel\", \"meal\", \"country\", \"market_segment\", \"reserved_room_type\", \"assigned_room_type\", \"deposit_type\", \"customer_type\"]\n",
    "df_encoded = pd.get_dummies(df, columns=col_quali, dtype=int)\n",
    "# df_encoded.drop([\"arrival_date\"], axis=1, inplace=True)\n",
    "for col in df_encoded.columns:\n",
    "    if df_encoded[col].dtype != \"float64\":\n",
    "        df_encoded[col] = df_encoded[col].astype('int64')\n",
    "\n",
    "df_encoded.info()"
   ]
  },
  {
   "cell_type": "markdown",
   "metadata": {},
   "source": [
    "## Standardiser ou normaliser les variables quantitatives"
   ]
  },
  {
   "cell_type": "code",
   "execution_count": 34,
   "metadata": {},
   "outputs": [],
   "source": [
    "# df = standardisation(df)\n",
    "# df_encoded = standardisation(df_encoded)\n",
    "df['lead_time'] = np.log(df['lead_time'] + 1)\n",
    "df['arrival_date_day_of_month'] = np.log(df['arrival_date_day_of_month'] + 1)\n",
    "df['adr'] = np.log(df['adr'] + 1)\n",
    "\n",
    "df_temporel['lead_time'] = np.log(df_temporel['lead_time'] + 1)\n",
    "df_temporel['adr'] = np.log(df_temporel['adr'] + 1)\n",
    "\n",
    "df_encoded['lead_time'] = np.log(df_encoded['lead_time'] + 1)\n",
    "df_encoded['arrival_date_day_of_month'] = np.log(df_encoded['arrival_date_day_of_month'] + 1)\n",
    "df_encoded['adr'] = np.log(df_encoded['adr'] + 1)\n",
    "\n",
    "\n",
    "df.to_csv(\"data/df.csv\", index=False)\n",
    "df_temporel.to_csv(\"data/df_temporel.csv\", index=False)\n",
    "df_encoded.to_csv(\"data/df_encoded.csv\", index=False)"
   ]
  },
  {
   "cell_type": "markdown",
   "metadata": {},
   "source": [
    "# Modèles de prédictions"
   ]
  },
  {
   "cell_type": "markdown",
   "metadata": {},
   "source": [
    "## Régression logistique"
   ]
  },
  {
   "cell_type": "markdown",
   "metadata": {},
   "source": [
    "bonne accuracy: pas dû à distribution_channel, pas dû au fait qu'il y a + de données (sans enlever doublons et occurences min) \n",
    "\n",
    "Raison: reservation_status permet de passer de 0.82 d'accuracy à 1\n",
    "\n",
    "mettre la date de réservation permet de passer de 0.82 à 0.90\n",
    "\n",
    "Je pense qu'il esy mieux de mettre toutes les colonnes pour un modèle"
   ]
  },
  {
   "cell_type": "code",
   "execution_count": 35,
   "metadata": {},
   "outputs": [
    {
     "name": "stdout",
     "output_type": "stream",
     "text": [
      "Accuracy of logistic regression classifier on test set: 0.80\n",
      "              precision    recall  f1-score   support\n",
      "\n",
      "           0       0.83      0.91      0.87      9892\n",
      "           1       0.69      0.51      0.59      3796\n",
      "\n",
      "    accuracy                           0.80     13688\n",
      "   macro avg       0.76      0.71      0.73     13688\n",
      "weighted avg       0.79      0.80      0.79     13688\n",
      "\n"
     ]
    },
    {
     "data": {
      "image/png": "[encoded data removed]",
      "text/plain": [
       "<Figure size 640x480 with 2 Axes>"
      ]
     },
     "metadata": {},
     "output_type": "display_data"
    },
    {
     "data": {
      "image/png": "[encoded data removed]",
      "text/plain": [
       "<Figure size 640x480 with 1 Axes>"
      ]
     },
     "metadata": {},
     "output_type": "display_data"
    }
   ],
   "source": [
    "from sklearn.linear_model import LogisticRegression\n",
    "from sklearn.metrics import ConfusionMatrixDisplay, classification_report\n",
    "from sklearn.model_selection import train_test_split\n",
    "from sklearn.metrics import confusion_matrix\n",
    "from sklearn.metrics import roc_auc_score\n",
    "from sklearn.metrics import roc_curve\n",
    "from sklearn.model_selection import cross_val_score\n",
    "\n",
    "scores_accuracy = {}\n",
    "scores_auc = {}\n",
    "\n",
    "\n",
    "X = df_encoded.drop(['is_canceled'], axis=1)\n",
    "y = df_encoded['is_canceled']\n",
    "\n",
    "logreg = LogisticRegression()\n",
    "\n",
    "X_train_l, X_test_l, y_train_l, y_test_l = train_test_split(X, y, test_size=0.2, random_state=0)\n",
    "\n",
    "logreg.fit(X_train_l, y_train_l)\n",
    "y_pred = logreg.predict(X_test_l)\n",
    "print('Accuracy of logistic regression classifier on test set: {:.2f}'.format(logreg.score(X_test_l, y_test_l)))\n",
    "\n",
    "cm = confusion_matrix(y_test_l, y_pred)\n",
    "confusion_matrix = ConfusionMatrixDisplay(cm, display_labels=logreg.classes_).plot()\n",
    "print(classification_report(y_test_l, y_pred))\n",
    "\n",
    "logit_roc_auc = roc_auc_score(y_test_l, logreg.predict(X_test_l))\n",
    "fpr, tpr, thresholds = roc_curve(y_test_l, logreg.predict_proba(X_test_l)[:,1])\n",
    "plt.figure()\n",
    "plt.plot(fpr, tpr, label='Logistic Regression (area = %0.2f)' % logit_roc_auc)\n",
    "plt.plot([0, 1], [0, 1],'r--')\n",
    "plt.xlim([0.0, 1.0])\n",
    "plt.ylim([0.0, 1.05])\n",
    "plt.xlabel('False Positive Rate')\n",
    "plt.ylabel('True Positive Rate')\n",
    "plt.title('Receiver operating characteristic')\n",
    "plt.legend(loc=\"lower right\")\n",
    "# plt.savefig('Log_ROC')\n",
    "plt.show()\n",
    "\n",
    "scores_accuracy['Logistic Regression'] = logreg.score(X_test_l, y_test_l)\n",
    "scores_auc['Logistic Regression'] = roc_auc_score(y_test_l, y_pred)"
   ]
  },
  {
   "cell_type": "markdown",
   "metadata": {},
   "source": [
    "## Méthode de Boosting"
   ]
  },
  {
   "cell_type": "markdown",
   "metadata": {},
   "source": [
    "On va essayer de voir quellee méthode de Boosting je vais appliquer sur mes données entre XGBoost, CatBoost, Gradient Boosting ou AdaBoost"
   ]
  },
  {
   "cell_type": "markdown",
   "metadata": {},
   "source": [
    "Chaque algorithme de boosting a ses propres forces et faiblesses, et le choix entre eux dépend souvent du contexte spécifique. Voici quelques considérations générales :\n",
    "\n",
    "1. **AdaBoost** : AdaBoost est l'un des premiers algorithmes de boosting. Il est simple et efficace, mais il est aussi plus sensible aux valeurs aberrantes et au surapprentissage que d'autres méthodes de boosting. De plus, AdaBoost peut être plus lent à entraîner que des méthodes plus récentes comme XGBoost ou CatBoost.\n",
    "\n",
    "2. **Gradient Boosting** : Le Gradient Boosting est une amélioration de AdaBoost qui utilise la descente de gradient pour minimiser l'erreur. Il est généralement plus performant que AdaBoost, mais il peut aussi être sujet au surapprentissage si le nombre d'itérations (ou \"arbres\") est trop élevé. De plus, comme AdaBoost, il peut être plus lent à entraîner que XGBoost ou CatBoost.\n",
    "\n",
    "3. **XGBoost** : XGBoost est une implémentation optimisée du Gradient Boosting qui est conçue pour être très efficace et flexible. Il a tendance à être plus rapide et à donner de meilleurs résultats que AdaBoost ou le Gradient Boosting standard. Cependant, XGBoost peut être plus difficile à calibrer car il a de nombreux hyperparamètres.\n",
    "\n",
    "4. **CatBoost** : CatBoost est un algorithme de boosting qui a été spécialement conçu pour gérer les variables catégorielles. Si votre jeu de données contient de nombreuses variables catégorielles, CatBoost peut être une bonne option. Cependant, comme XGBoost, CatBoost a de nombreux hyperparamètres et peut être plus difficile à calibrer.\n",
    "\n",
    "En résumé, si votre jeu de données contient de nombreuses valeurs aberrantes ou si vous êtes préoccupé par le surapprentissage, vous pourriez vouloir éviter AdaBoost. Si votre jeu de données est très grand et que le temps d'entraînement est une préoccupation, vous pourriez vouloir éviter AdaBoost et le Gradient Boosting standard en faveur de XGBoost ou CatBoost. Si votre jeu de données contient de nombreuses variables catégorielles, CatBoost pourrait être une bonne option. Enfin, si la simplicité et l'interprétabilité sont des préoccupations, vous pourriez vouloir choisir AdaBoost ou le Gradient Boosting standard plutôt que XGBoost ou CatBoost."
   ]
  },
  {
   "cell_type": "markdown",
   "metadata": {},
   "source": [
    "Par simplicité, nous préfèrerions Gradient Boosting, qui est meilleure que AdaBoost. Cependant, XGBoost offre de bons résultats, CatBoost aussi mais pour CatBoost, on a déjà encoder les variables donc sa principale utilité est futile.\n",
    "\n",
    "Pour l'instant, nous allons juste utiliser la méthode Random Forest"
   ]
  },
  {
   "cell_type": "markdown",
   "metadata": {},
   "source": [
    "### Random Forest"
   ]
  },
  {
   "cell_type": "code",
   "execution_count": 52,
   "metadata": {},
   "outputs": [
    {
     "name": "stdout",
     "output_type": "stream",
     "text": [
      "Accuracy of random forest classifier on test set: 0.83\n"
     ]
    },
    {
     "data": {
      "image/png": "[encoded data removed]",
      "text/plain": [
       "<Figure size 640x480 with 1 Axes>"
      ]
     },
     "metadata": {},
     "output_type": "display_data"
    }
   ],
   "source": [
    "from sklearn.ensemble import RandomForestClassifier\n",
    "from sklearn.metrics import accuracy_score\n",
    "\n",
    "\n",
    "X = df_encoded.drop(['is_canceled'], axis=1)\n",
    "y = df_encoded['is_canceled']\n",
    "\n",
    "X_train_r, X_test_r, y_train_r, y_test_r = train_test_split(X, y, test_size=0.2, random_state=0)\n",
    "rf = RandomForestClassifier(n_estimators=100, random_state=0)\n",
    "rf.fit(X_train_r, y_train_r)\n",
    "y_pred_rf = rf.predict(X_test_r)\n",
    "print('Accuracy of random forest classifier on test set: {:.2f}'.format(accuracy_score(y_test_r, y_pred_rf)))\n",
    "\n",
    "rf_roc_auc = roc_auc_score(y_test_r, rf.predict(X_test_r))\n",
    "fpr, tpr, thresholds = roc_curve(y_test_r, rf.predict_proba(X_test_r)[:,1])\n",
    "plt.figure()\n",
    "plt.plot(fpr, tpr, label='Random Forest (area = %0.2f)' % rf_roc_auc)\n",
    "plt.plot([0, 1], [0, 1],'r--')\n",
    "plt.xlim([0.0, 1.0])\n",
    "plt.ylim([0.0, 1.05])\n",
    "plt.xlabel('False Positive Rate')\n",
    "plt.ylabel('True Positive Rate')\n",
    "plt.title('Receiver operating characteristic')\n",
    "plt.legend(loc=\"lower right\")\n",
    "plt.savefig('Rf_ROC')\n",
    "plt.show()\n",
    "\n",
    "scores_accuracy['Random Forest'] = accuracy_score(y_test_r, y_pred_rf)\n",
    "scores_auc['Random Forest'] = roc_auc_score(y_test_r, y_pred_rf)"
   ]
  },
  {
   "cell_type": "markdown",
   "metadata": {},
   "source": [
    "### Importance"
   ]
  },
  {
   "cell_type": "code",
   "execution_count": 37,
   "metadata": {},
   "outputs": [],
   "source": [
    "# Obtenir les importances des variables\n",
    "importances = rf.feature_importances_\n",
    "\n",
    "# Créer un DataFrame pour stocker les importances et les noms des variables\n",
    "importance_df = pd.DataFrame({'Feature': X.columns, 'Importance': importances})\n",
    "\n",
    "# Trier le DataFrame par ordre décroissant d'importance\n",
    "importance_df = importance_df.sort_values(by='Importance', ascending=False)\n",
    "\n",
    "# Afficher les importances des variables\n",
    "importance_df.to_csv(\"importance.csv\", index=False)"
   ]
  },
  {
   "cell_type": "markdown",
   "metadata": {},
   "source": [
    "### Gradient Boosting"
   ]
  },
  {
   "cell_type": "code",
   "execution_count": 38,
   "metadata": {},
   "outputs": [
    {
     "name": "stdout",
     "output_type": "stream",
     "text": [
      "Accuracy of gradient boosting classifier on test set: 0.81\n"
     ]
    },
    {
     "data": {
      "image/png": "[encoded data removed]",
      "text/plain": [
       "<Figure size 640x480 with 1 Axes>"
      ]
     },
     "metadata": {},
     "output_type": "display_data"
    }
   ],
   "source": [
    "from sklearn.ensemble import GradientBoostingClassifier\n",
    "\n",
    "X = df_encoded.drop(['is_canceled'], axis=1)\n",
    "y = df_encoded['is_canceled']\n",
    "\n",
    "X_train_gb, X_test_gb, y_train_gb, y_test_gb = train_test_split(X, y, test_size=0.2, random_state=0)\n",
    "gb = GradientBoostingClassifier(n_estimators=100, random_state=0)\n",
    "gb.fit(X_train_gb, y_train_gb)\n",
    "y_pred_gb = gb.predict(X_test_gb)\n",
    "print('Accuracy of gradient boosting classifier on test set: {:.2f}'.format(accuracy_score(y_test_gb, y_pred_gb)))\n",
    "\n",
    "gb_roc_auc = roc_auc_score(y_test_gb, gb.predict(X_test_gb))\n",
    "fpr, tpr, thresholds = roc_curve(y_test_gb, gb.predict_proba(X_test_gb)[:,1])\n",
    "plt.figure()\n",
    "plt.plot(fpr, tpr, label='Gradient Boosting (area = %0.2f)' % gb_roc_auc)\n",
    "plt.plot([0, 1], [0, 1],'r--')\n",
    "plt.xlim([0.0, 1.0])\n",
    "plt.ylim([0.0, 1.05])\n",
    "plt.xlabel('False Positive Rate')\n",
    "plt.ylabel('True Positive Rate')\n",
    "plt.title('Receiver operating characteristic')\n",
    "plt.legend(loc=\"lower right\")\n",
    "# plt.savefig('Gb_ROC')\n",
    "plt.show()\n",
    "\n",
    "scores_accuracy['Gradient Boosting'] = accuracy_score(y_test_gb, y_pred_gb)\n",
    "scores_auc['Gradient Boosting'] = roc_auc_score(y_test_gb, y_pred_gb)\n"
   ]
  },
  {
   "cell_type": "markdown",
   "metadata": {},
   "source": [
    "## ANN"
   ]
  },
  {
   "cell_type": "code",
   "execution_count": 39,
   "metadata": {},
   "outputs": [
    {
     "name": "stdout",
     "output_type": "stream",
     "text": [
      "Epoch 1/10\n",
      "1711/1711 [==============================] - 11s 6ms/step - loss: 0.4197 - accuracy: 0.7961 - val_loss: 0.3925 - val_accuracy: 0.8065\n",
      "Epoch 2/10\n",
      "1711/1711 [==============================] - 3s 2ms/step - loss: 0.3798 - accuracy: 0.8182 - val_loss: 0.3809 - val_accuracy: 0.8179\n",
      "Epoch 3/10\n",
      "1711/1711 [==============================] - 3s 2ms/step - loss: 0.3665 - accuracy: 0.8267 - val_loss: 0.3797 - val_accuracy: 0.8123\n",
      "Epoch 4/10\n",
      "1711/1711 [==============================] - 3s 2ms/step - loss: 0.3591 - accuracy: 0.8305 - val_loss: 0.3675 - val_accuracy: 0.8209\n",
      "Epoch 5/10\n",
      "1711/1711 [==============================] - 3s 2ms/step - loss: 0.3540 - accuracy: 0.8324 - val_loss: 0.3631 - val_accuracy: 0.8252\n",
      "Epoch 6/10\n",
      "1711/1711 [==============================] - 3s 2ms/step - loss: 0.3492 - accuracy: 0.8336 - val_loss: 0.3670 - val_accuracy: 0.8216\n",
      "Epoch 7/10\n",
      "1711/1711 [==============================] - 3s 2ms/step - loss: 0.3441 - accuracy: 0.8366 - val_loss: 0.3609 - val_accuracy: 0.8269\n",
      "Epoch 8/10\n",
      "1711/1711 [==============================] - 3s 2ms/step - loss: 0.3411 - accuracy: 0.8378 - val_loss: 0.3709 - val_accuracy: 0.8223\n",
      "Epoch 9/10\n",
      "1711/1711 [==============================] - 3s 2ms/step - loss: 0.3366 - accuracy: 0.8414 - val_loss: 0.3725 - val_accuracy: 0.8217\n",
      "Epoch 10/10\n",
      "1711/1711 [==============================] - 3s 2ms/step - loss: 0.3349 - accuracy: 0.8431 - val_loss: 0.3607 - val_accuracy: 0.8277\n"
     ]
    },
    {
     "data": {
      "application/vnd.plotly.v1+json": {
       "config": {
        "plotlyServerURL": "https://plot.ly"
       },
       "data": [
        {
         "hovertemplate": "variable=val_acc<br>x=%{x}<br>value=%{y}<extra></extra>",
         "legendgroup": "val_acc",
         "line": {
          "color": "#636efa",
          "dash": "solid"
         },
         "marker": {
          "symbol": "circle"
         },
         "mode": "lines",
         "name": "val_acc",
         "orientation": "v",
         "showlegend": true,
         "type": "scatter",
         "x": [
          1,
          2,
          3,
          4,
          5,
          6,
          7,
          8,
          9,
          10
         ],
         "xaxis": "x",
         "y": [
          0.8065458536148071,
          0.8178696632385254,
          0.8123173713684082,
          0.8208649754524231,
          0.8252484202384949,
          0.8215955495834351,
          0.8268556594848633,
          0.8222530484199524,
          0.8216686248779297,
          0.8277323246002197
         ],
         "yaxis": "y"
        },
        {
         "hovertemplate": "variable=train_acc<br>x=%{x}<br>value=%{y}<extra></extra>",
         "legendgroup": "train_acc",
         "line": {
          "color": "#EF553B",
          "dash": "solid"
         },
         "marker": {
          "symbol": "circle"
         },
         "mode": "lines",
         "name": "train_acc",
         "orientation": "v",
         "showlegend": true,
         "type": "scatter",
         "x": [
          1,
          2,
          3,
          4,
          5,
          6,
          7,
          8,
          9,
          10
         ],
         "xaxis": "x",
         "y": [
          0.796095073223114,
          0.8182133436203003,
          0.8267063498497009,
          0.8305419087409973,
          0.8324049115180969,
          0.8335555791854858,
          0.8365874886512756,
          0.8378477096557617,
          0.8414275646209717,
          0.8430713415145874
         ],
         "yaxis": "y"
        }
       ],
       "layout": {
        "legend": {
         "title": {
          "text": "variable"
         },
         "tracegroupgap": 0
        },
        "template": {
         "data": {
          "bar": [
           {
            "error_x": {
             "color": "#f2f5fa"
            },
            "error_y": {
             "color": "#f2f5fa"
            },
            "marker": {
             "line": {
              "color": "rgb(17,17,17)",
              "width": 0.5
             },
             "pattern": {
              "fillmode": "overlay",
              "size": 10,
              "solidity": 0.2
             }
            },
            "type": "bar"
           }
          ],
          "barpolar": [
           {
            "marker": {
             "line": {
              "color": "rgb(17,17,17)",
              "width": 0.5
             },
             "pattern": {
              "fillmode": "overlay",
              "size": 10,
              "solidity": 0.2
             }
            },
            "type": "barpolar"
           }
          ],
          "carpet": [
           {
            "aaxis": {
             "endlinecolor": "#A2B1C6",
             "gridcolor": "#506784",
             "linecolor": "#506784",
             "minorgridcolor": "#506784",
             "startlinecolor": "#A2B1C6"
            },
            "baxis": {
             "endlinecolor": "#A2B1C6",
             "gridcolor": "#506784",
             "linecolor": "#506784",
             "minorgridcolor": "#506784",
             "startlinecolor": "#A2B1C6"
            },
            "type": "carpet"
           }
          ],
          "choropleth": [
           {
            "colorbar": {
             "outlinewidth": 0,
             "ticks": ""
            },
            "type": "choropleth"
           }
          ],
          "contour": [
           {
            "colorbar": {
             "outlinewidth": 0,
             "ticks": ""
            },
            "colorscale": [
             [
              0,
              "#0d0887"
             ],
             [
              0.1111111111111111,
              "#46039f"
             ],
             [
              0.2222222222222222,
              "#7201a8"
             ],
             [
              0.3333333333333333,
              "#9c179e"
             ],
             [
              0.4444444444444444,
              "#bd3786"
             ],
             [
              0.5555555555555556,
              "#d8576b"
             ],
             [
              0.6666666666666666,
              "#ed7953"
             ],
             [
              0.7777777777777778,
              "#fb9f3a"
             ],
             [
              0.8888888888888888,
              "#fdca26"
             ],
             [
              1,
              "#f0f921"
             ]
            ],
            "type": "contour"
           }
          ],
          "contourcarpet": [
           {
            "colorbar": {
             "outlinewidth": 0,
             "ticks": ""
            },
            "type": "contourcarpet"
           }
          ],
          "heatmap": [
           {
            "colorbar": {
             "outlinewidth": 0,
             "ticks": ""
            },
            "colorscale": [
             [
              0,
              "#0d0887"
             ],
             [
              0.1111111111111111,
              "#46039f"
             ],
             [
              0.2222222222222222,
              "#7201a8"
             ],
             [
              0.3333333333333333,
              "#9c179e"
             ],
             [
              0.4444444444444444,
              "#bd3786"
             ],
             [
              0.5555555555555556,
              "#d8576b"
             ],
             [
              0.6666666666666666,
              "#ed7953"
             ],
             [
              0.7777777777777778,
              "#fb9f3a"
             ],
             [
              0.8888888888888888,
              "#fdca26"
             ],
             [
              1,
              "#f0f921"
             ]
            ],
            "type": "heatmap"
           }
          ],
          "heatmapgl": [
           {
            "colorbar": {
             "outlinewidth": 0,
             "ticks": ""
            },
            "colorscale": [
             [
              0,
              "#0d0887"
             ],
             [
              0.1111111111111111,
              "#46039f"
             ],
             [
              0.2222222222222222,
              "#7201a8"
             ],
             [
              0.3333333333333333,
              "#9c179e"
             ],
             [
              0.4444444444444444,
              "#bd3786"
             ],
             [
              0.5555555555555556,
              "#d8576b"
             ],
             [
              0.6666666666666666,
              "#ed7953"
             ],
             [
              0.7777777777777778,
              "#fb9f3a"
             ],
             [
              0.8888888888888888,
              "#fdca26"
             ],
             [
              1,
              "#f0f921"
             ]
            ],
            "type": "heatmapgl"
           }
          ],
          "histogram": [
           {
            "marker": {
             "pattern": {
              "fillmode": "overlay",
              "size": 10,
              "solidity": 0.2
             }
            },
            "type": "histogram"
           }
          ],
          "histogram2d": [
           {
            "colorbar": {
             "outlinewidth": 0,
             "ticks": ""
            },
            "colorscale": [
             [
              0,
              "#0d0887"
             ],
             [
              0.1111111111111111,
              "#46039f"
             ],
             [
              0.2222222222222222,
              "#7201a8"
             ],
             [
              0.3333333333333333,
              "#9c179e"
             ],
             [
              0.4444444444444444,
              "#bd3786"
             ],
             [
              0.5555555555555556,
              "#d8576b"
             ],
             [
              0.6666666666666666,
              "#ed7953"
             ],
             [
              0.7777777777777778,
              "#fb9f3a"
             ],
             [
              0.8888888888888888,
              "#fdca26"
             ],
             [
              1,
              "#f0f921"
             ]
            ],
            "type": "histogram2d"
           }
          ],
          "histogram2dcontour": [
           {
            "colorbar": {
             "outlinewidth": 0,
             "ticks": ""
            },
            "colorscale": [
             [
              0,
              "#0d0887"
             ],
             [
              0.1111111111111111,
              "#46039f"
             ],
             [
              0.2222222222222222,
              "#7201a8"
             ],
             [
              0.3333333333333333,
              "#9c179e"
             ],
             [
              0.4444444444444444,
              "#bd3786"
             ],
             [
              0.5555555555555556,
              "#d8576b"
             ],
             [
              0.6666666666666666,
              "#ed7953"
             ],
             [
              0.7777777777777778,
              "#fb9f3a"
             ],
             [
              0.8888888888888888,
              "#fdca26"
             ],
             [
              1,
              "#f0f921"
             ]
            ],
            "type": "histogram2dcontour"
           }
          ],
          "mesh3d": [
           {
            "colorbar": {
             "outlinewidth": 0,
             "ticks": ""
            },
            "type": "mesh3d"
           }
          ],
          "parcoords": [
           {
            "line": {
             "colorbar": {
              "outlinewidth": 0,
              "ticks": ""
             }
            },
            "type": "parcoords"
           }
          ],
          "pie": [
           {
            "automargin": true,
            "type": "pie"
           }
          ],
          "scatter": [
           {
            "marker": {
             "line": {
              "color": "#283442"
             }
            },
            "type": "scatter"
           }
          ],
          "scatter3d": [
           {
            "line": {
             "colorbar": {
              "outlinewidth": 0,
              "ticks": ""
             }
            },
            "marker": {
             "colorbar": {
              "outlinewidth": 0,
              "ticks": ""
             }
            },
            "type": "scatter3d"
           }
          ],
          "scattercarpet": [
           {
            "marker": {
             "colorbar": {
              "outlinewidth": 0,
              "ticks": ""
             }
            },
            "type": "scattercarpet"
           }
          ],
          "scattergeo": [
           {
            "marker": {
             "colorbar": {
              "outlinewidth": 0,
              "ticks": ""
             }
            },
            "type": "scattergeo"
           }
          ],
          "scattergl": [
           {
            "marker": {
             "line": {
              "color": "#283442"
             }
            },
            "type": "scattergl"
           }
          ],
          "scattermapbox": [
           {
            "marker": {
             "colorbar": {
              "outlinewidth": 0,
              "ticks": ""
             }
            },
            "type": "scattermapbox"
           }
          ],
          "scatterpolar": [
           {
            "marker": {
             "colorbar": {
              "outlinewidth": 0,
              "ticks": ""
             }
            },
            "type": "scatterpolar"
           }
          ],
          "scatterpolargl": [
           {
            "marker": {
             "colorbar": {
              "outlinewidth": 0,
              "ticks": ""
             }
            },
            "type": "scatterpolargl"
           }
          ],
          "scatterternary": [
           {
            "marker": {
             "colorbar": {
              "outlinewidth": 0,
              "ticks": ""
             }
            },
            "type": "scatterternary"
           }
          ],
          "surface": [
           {
            "colorbar": {
             "outlinewidth": 0,
             "ticks": ""
            },
            "colorscale": [
             [
              0,
              "#0d0887"
             ],
             [
              0.1111111111111111,
              "#46039f"
             ],
             [
              0.2222222222222222,
              "#7201a8"
             ],
             [
              0.3333333333333333,
              "#9c179e"
             ],
             [
              0.4444444444444444,
              "#bd3786"
             ],
             [
              0.5555555555555556,
              "#d8576b"
             ],
             [
              0.6666666666666666,
              "#ed7953"
             ],
             [
              0.7777777777777778,
              "#fb9f3a"
             ],
             [
              0.8888888888888888,
              "#fdca26"
             ],
             [
              1,
              "#f0f921"
             ]
            ],
            "type": "surface"
           }
          ],
          "table": [
           {
            "cells": {
             "fill": {
              "color": "#506784"
             },
             "line": {
              "color": "rgb(17,17,17)"
             }
            },
            "header": {
             "fill": {
              "color": "#2a3f5f"
             },
             "line": {
              "color": "rgb(17,17,17)"
             }
            },
            "type": "table"
           }
          ]
         },
         "layout": {
          "annotationdefaults": {
           "arrowcolor": "#f2f5fa",
           "arrowhead": 0,
           "arrowwidth": 1
          },
          "autotypenumbers": "strict",
          "coloraxis": {
           "colorbar": {
            "outlinewidth": 0,
            "ticks": ""
           }
          },
          "colorscale": {
           "diverging": [
            [
             0,
             "#8e0152"
            ],
            [
             0.1,
             "#c51b7d"
            ],
            [
             0.2,
             "#de77ae"
            ],
            [
             0.3,
             "#f1b6da"
            ],
            [
             0.4,
             "#fde0ef"
            ],
            [
             0.5,
             "#f7f7f7"
            ],
            [
             0.6,
             "#e6f5d0"
            ],
            [
             0.7,
             "#b8e186"
            ],
            [
             0.8,
             "#7fbc41"
            ],
            [
             0.9,
             "#4d9221"
            ],
            [
             1,
             "#276419"
            ]
           ],
           "sequential": [
            [
             0,
             "#0d0887"
            ],
            [
             0.1111111111111111,
             "#46039f"
            ],
            [
             0.2222222222222222,
             "#7201a8"
            ],
            [
             0.3333333333333333,
             "#9c179e"
            ],
            [
             0.4444444444444444,
             "#bd3786"
            ],
            [
             0.5555555555555556,
             "#d8576b"
            ],
            [
             0.6666666666666666,
             "#ed7953"
            ],
            [
             0.7777777777777778,
             "#fb9f3a"
            ],
            [
             0.8888888888888888,
             "#fdca26"
            ],
            [
             1,
             "#f0f921"
            ]
           ],
           "sequentialminus": [
            [
             0,
             "#0d0887"
            ],
            [
             0.1111111111111111,
             "#46039f"
            ],
            [
             0.2222222222222222,
             "#7201a8"
            ],
            [
             0.3333333333333333,
             "#9c179e"
            ],
            [
             0.4444444444444444,
             "#bd3786"
            ],
            [
             0.5555555555555556,
             "#d8576b"
            ],
            [
             0.6666666666666666,
             "#ed7953"
            ],
            [
             0.7777777777777778,
             "#fb9f3a"
            ],
            [
             0.8888888888888888,
             "#fdca26"
            ],
            [
             1,
             "#f0f921"
            ]
           ]
          },
          "colorway": [
           "#636efa",
           "#EF553B",
           "#00cc96",
           "#ab63fa",
           "#FFA15A",
           "#19d3f3",
           "#FF6692",
           "#B6E880",
           "#FF97FF",
           "#FECB52"
          ],
          "font": {
           "color": "#f2f5fa"
          },
          "geo": {
           "bgcolor": "rgb(17,17,17)",
           "lakecolor": "rgb(17,17,17)",
           "landcolor": "rgb(17,17,17)",
           "showlakes": true,
           "showland": true,
           "subunitcolor": "#506784"
          },
          "hoverlabel": {
           "align": "left"
          },
          "hovermode": "closest",
          "mapbox": {
           "style": "dark"
          },
          "paper_bgcolor": "rgb(17,17,17)",
          "plot_bgcolor": "rgb(17,17,17)",
          "polar": {
           "angularaxis": {
            "gridcolor": "#506784",
            "linecolor": "#506784",
            "ticks": ""
           },
           "bgcolor": "rgb(17,17,17)",
           "radialaxis": {
            "gridcolor": "#506784",
            "linecolor": "#506784",
            "ticks": ""
           }
          },
          "scene": {
           "xaxis": {
            "backgroundcolor": "rgb(17,17,17)",
            "gridcolor": "#506784",
            "gridwidth": 2,
            "linecolor": "#506784",
            "showbackground": true,
            "ticks": "",
            "zerolinecolor": "#C8D4E3"
           },
           "yaxis": {
            "backgroundcolor": "rgb(17,17,17)",
            "gridcolor": "#506784",
            "gridwidth": 2,
            "linecolor": "#506784",
            "showbackground": true,
            "ticks": "",
            "zerolinecolor": "#C8D4E3"
           },
           "zaxis": {
            "backgroundcolor": "rgb(17,17,17)",
            "gridcolor": "#506784",
            "gridwidth": 2,
            "linecolor": "#506784",
            "showbackground": true,
            "ticks": "",
            "zerolinecolor": "#C8D4E3"
           }
          },
          "shapedefaults": {
           "line": {
            "color": "#f2f5fa"
           }
          },
          "sliderdefaults": {
           "bgcolor": "#C8D4E3",
           "bordercolor": "rgb(17,17,17)",
           "borderwidth": 1,
           "tickwidth": 0
          },
          "ternary": {
           "aaxis": {
            "gridcolor": "#506784",
            "linecolor": "#506784",
            "ticks": ""
           },
           "baxis": {
            "gridcolor": "#506784",
            "linecolor": "#506784",
            "ticks": ""
           },
           "bgcolor": "rgb(17,17,17)",
           "caxis": {
            "gridcolor": "#506784",
            "linecolor": "#506784",
            "ticks": ""
           }
          },
          "title": {
           "x": 0.05
          },
          "updatemenudefaults": {
           "bgcolor": "#506784",
           "borderwidth": 0
          },
          "xaxis": {
           "automargin": true,
           "gridcolor": "#283442",
           "linecolor": "#506784",
           "ticks": "",
           "title": {
            "standoff": 15
           },
           "zerolinecolor": "#283442",
           "zerolinewidth": 2
          },
          "yaxis": {
           "automargin": true,
           "gridcolor": "#283442",
           "linecolor": "#506784",
           "ticks": "",
           "title": {
            "standoff": 15
           },
           "zerolinecolor": "#283442",
           "zerolinewidth": 2
          }
         }
        },
        "title": {
         "text": "Training and Validation Accuracy"
        },
        "xaxis": {
         "anchor": "y",
         "domain": [
          0,
          1
         ],
         "title": {
          "text": "x"
         }
        },
        "yaxis": {
         "anchor": "x",
         "domain": [
          0,
          1
         ],
         "title": {
          "text": "value"
         }
        }
       }
      }
     },
     "metadata": {},
     "output_type": "display_data"
    }
   ],
   "source": [
    "from keras.models import Sequential\n",
    "from keras.layers import Dense\n",
    "from keras.utils import to_categorical\n",
    "from sklearn import metrics\n",
    "import plotly.express as px\n",
    "\n",
    "\n",
    "# Rest of the code\n",
    "X = df_encoded.drop('is_canceled', axis=1)\n",
    "y = to_categorical(df_encoded['is_canceled'])\n",
    "X_train_deep, X_test_deep, y_train_deep, y_test_deep = train_test_split(X, y, test_size=0.2, random_state=0)\n",
    "epochs = 10\n",
    "\n",
    "model = Sequential()\n",
    "model.add(Dense(100, activation = 'relu', input_shape = (X_train_deep.shape[1], )))\n",
    "model.add(Dense(100, activation = 'relu'))\n",
    "model.add(Dense(2, activation = 'sigmoid'))\n",
    "model.compile(optimizer = 'adam', loss = 'binary_crossentropy', metrics = ['accuracy'])\n",
    "model_history = model.fit(X_train_deep, y_train_deep, validation_data = (X_test_deep, y_test_deep),\n",
    "                          epochs = epochs)\n",
    "\n",
    "\n",
    "train_acc = model_history.history['accuracy']\n",
    "val_acc = model_history.history['val_accuracy'] \n",
    "epoch = range(1, epochs + 1)\n",
    "\n",
    "\n",
    "accuracy = pd.DataFrame({'train_acc' : train_acc, 'val_acc' : val_acc})\n",
    "\n",
    "px.line(data_frame = accuracy, x = epoch, y = ['val_acc', 'train_acc'], title = 'Training and Validation Accuracy',\n",
    "        template = 'plotly_dark')"
   ]
  },
  {
   "cell_type": "code",
   "execution_count": 53,
   "metadata": {},
   "outputs": [
    {
     "name": "stdout",
     "output_type": "stream",
     "text": [
      "428/428 [==============================] - 0s 1ms/step\n"
     ]
    },
    {
     "data": {
      "image/png": "[encoded data removed]",
      "text/plain": [
       "<Figure size 800x600 with 1 Axes>"
      ]
     },
     "metadata": {},
     "output_type": "display_data"
    },
    {
     "name": "stdout",
     "output_type": "stream",
     "text": [
      "428/428 [==============================] - 0s 985us/step\n"
     ]
    }
   ],
   "source": [
    "from sklearn.metrics import roc_curve, auc\n",
    "\n",
    "# Calculer la courbe ROC et l'AUC\n",
    "fpr, tpr, thresholds = roc_curve(y_test_deep[:,1], model.predict(X_test_deep)[:,1])\n",
    "roc_auc = auc(fpr, tpr)\n",
    "\n",
    "# Afficher la courbe ROC avec l'AUC\n",
    "plt.figure(figsize=(8, 6))\n",
    "plt.plot(fpr, tpr, color='darkorange', lw=2, label='ROC curve (area = %0.2f)' % roc_auc)\n",
    "plt.plot([0, 1], [0, 1], color='navy', lw=2, linestyle='--')\n",
    "plt.xlim([0.0, 1.0])\n",
    "plt.ylim([0.0, 1.05])\n",
    "plt.xlabel('False Positive Rate')\n",
    "plt.ylabel('True Positive Rate')\n",
    "plt.title('Receiver Operating Characteristic (ROC)')\n",
    "plt.legend(loc=\"lower right\")\n",
    "plt.savefig('ANN_ROC')\n",
    "plt.show()\n",
    "\n",
    "scores_accuracy['Neural Network'] = model.evaluate(X_test_deep, y_test_deep, verbose=0)[1]\n",
    "scores_auc['Neural Network'] = roc_auc_score(y_test_deep[:,1], model.predict(X_test_deep)[:,1])"
   ]
  },
  {
   "cell_type": "markdown",
   "metadata": {},
   "source": [
    "## Affichage des AUC"
   ]
  },
  {
   "cell_type": "code",
   "execution_count": 41,
   "metadata": {},
   "outputs": [
    {
     "name": "stdout",
     "output_type": "stream",
     "text": [
      "AUC: [('Logistic Regression', 0.7110624566178798), ('Gradient Boosting', 0.7271599129396215), ('Random Forest', 0.7611567414909259), ('Neural Network', 0.8927680407835605)]\n",
      "Accuracy: [('Logistic Regression', 0.7998977206312098), ('Gradient Boosting', 0.8137784921098773), ('Neural Network', 0.8277323246002197), ('Random Forest', 0.8312390414962011)]\n"
     ]
    }
   ],
   "source": [
    "print(\"AUC:\", sorted(scores_auc.items(), key=lambda x: x[1], reverse=False))\n",
    "print(\"Accuracy:\", sorted(scores_accuracy.items(), key=lambda x: x[1], reverse=False))\n"
   ]
  },
  {
   "cell_type": "code",
   "execution_count": 55,
   "metadata": {},
   "outputs": [
    {
     "name": "stdout",
     "output_type": "stream",
     "text": [
      "428/428 [==============================] - 0s 925us/step\n",
      "428/428 [==============================] - 0s 1ms/step\n"
     ]
    },
    {
     "data": {
      "image/png": "[encoded data removed]",
      "text/plain": [
       "<Figure size 800x600 with 1 Axes>"
      ]
     },
     "metadata": {},
     "output_type": "display_data"
    }
   ],
   "source": [
    "# Calculer la courbe ROC et l'AUC\n",
    "\n",
    "logit_roc_auc = roc_auc_score(y_test_l, logreg.predict(X_test_l))\n",
    "fpr_logreg, tpr_logreg, thresholds = roc_curve(y_test_l, logreg.predict_proba(X_test_l)[:,1])\n",
    "\n",
    "rf_roc_auc = roc_auc_score(y_test_r, rf.predict(X_test_r))\n",
    "fpr_rf, tpr_rf, thresholds = roc_curve(y_test_r, rf.predict_proba(X_test_r)[:,1])\n",
    "\n",
    "gb_roc_auc = roc_auc_score(y_test_gb, gb.predict(X_test_gb))\n",
    "fpr_gb, tpr_gb, thresholds = roc_curve(y_test_gb, gb.predict_proba(X_test_gb)[:,1])\n",
    "\n",
    "nn_roc_auc = roc_auc_score(y_test_deep, model.predict(X_test_deep))\n",
    "fpr_nn, tpr_nn, thresholds = metrics.roc_curve(y_test_deep[:,1],  model.predict(X_test_deep)[:,1])\n",
    "\n",
    "\n",
    "# Afficher la courbe ROC avec l'AUC\n",
    "plt.figure(figsize=(8, 6))\n",
    "plt.plot(fpr_logreg, tpr_logreg, color='darkorange', lw=2, label='Logistic Regression (area = %0.2f)' % logit_roc_auc)\n",
    "plt.plot(fpr_rf, tpr_rf, color='blue', lw=2, label='Random Forest (area = %0.2f)' % rf_roc_auc)\n",
    "plt.plot(fpr_gb, tpr_gb, color='green', lw=2, label='Gradient Boosting (area = %0.2f)' % gb_roc_auc)\n",
    "plt.plot(fpr_nn, tpr_nn, color='red', lw=2, label='Neural Network (area = %0.2f)' % nn_roc_auc)\n",
    "plt.plot([0, 1], [0, 1], color='navy', lw=2, linestyle='--')\n",
    "plt.xlim([0.0, 1.0])\n",
    "plt.ylim([0.0, 1.05])\n",
    "plt.xlabel('False Positive Rate')\n",
    "plt.ylabel('True Positive Rate')\n",
    "plt.title('Receiver Operating Characteristic (ROC)')\n",
    "plt.legend(loc=\"lower right\")\n",
    "plt.savefig('All_ROC')\n",
    "plt.show()\n"
   ]
  },
  {
   "cell_type": "code",
   "execution_count": null,
   "metadata": {},
   "outputs": [],
   "source": [
    "# nn_roc_auc = roc_auc_score(y_test_deep, model.predict(X_test_deep))\n",
    "# fpr_nn, tpr_nn, thresholds = roc_curve(y_test_deep[:,1], model.predict(X_test_deep)[:,1])"
   ]
  }
 ],
 "metadata": {
  "kernelspec": {
   "display_name": "Python 3",
   "language": "python",
   "name": "python3"
  },
  "language_info": {
   "codemirror_mode": {
    "name": "ipython",
    "version": 3
   },
   "file_extension": ".py",
   "mimetype": "text/x-python",
   "name": "python",
   "nbconvert_exporter": "python",
   "pygments_lexer": "ipython3",
   "version": "3.11.2"
  }
 },
 "nbformat": 4,
 "nbformat_minor": 2
}
